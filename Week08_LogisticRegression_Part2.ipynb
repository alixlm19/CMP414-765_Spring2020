{
 "cells": [
  {
   "cell_type": "code",
   "execution_count": 5,
   "metadata": {},
   "outputs": [],
   "source": [
    "import numpy as np\n",
    "import pandas as pd\n",
    "import matplotlib.pyplot as plt\n",
    "%matplotlib inline"
   ]
  },
  {
   "cell_type": "markdown",
   "metadata": {},
   "source": [
    "# Course Changes\n",
    "## 1. Grading Policy\n",
    "**Before**\n",
    "- Participation & In-class activities: 10%\n",
    "- Homework and Quizzes: 30%\n",
    "- Midterm Project: 30%\n",
    "- Final Project: 30%\n",
    "\n",
    "**Now**\n",
    "- Participation & In-class activities: 10%\n",
    "- Homework: 20%\n",
    "- Midterm Project: 35%\n",
    "- Final Project: 35%\n",
    "\n",
    "## 2. Online Office Hour: 12:40pm - 2:00pm\n",
    "\n",
    "## 3. Cancellation of Test 1\n"
   ]
  },
  {
   "cell_type": "markdown",
   "metadata": {},
   "source": [
    "## Logistic Regression: Training Algorithm\n",
    "\n",
    "**Cost (loss) function** for logistic regression:\n",
    "\n",
    "\\begin{equation}\n",
    "c(\\theta) = \\left\\{\n",
    "\\begin{array}{cc}\n",
    "-\\log(\\hat{p}) & \\textit{if }y=1,\\\\\n",
    "-\\log(1-\\hat{p}) & \\textit{if }y=0.\n",
    "\\end{array}\n",
    "\\right.\n",
    "\\end{equation}\n",
    "\n",
    "The cost function $c(\\theta)$:\n",
    "\n",
    "- small if $y=1$ (data example belongs to the class) and $\\hat{p}$ is close to 1.\n",
    "- small if $y=0$ (data example does not belong to the class) and $\\hat{p}$ is close to 0.\n",
    "- is a convex function, so that the gradient descent method always finds the minimum.\n",
    "\n",
    "**Uniformed expression for the cost function**:\n",
    "\n",
    "$J(\\theta)=-\\frac{1}{m}\\sum_{i=1}^{m}\\big[y^{(i)}\\log(\\hat{p}^{(i)}) + (1-y^{(i)})\\log(1-\\hat{p}^{(i)})\\big]$\n",
    "\n",
    "- $c(\\theta) = J(\\theta)$ for $y=0$ and $y=1$.\n",
    "- There is no equivalent of the Normal Equation.\n",
    "- $J(\\theta)$ is a convex function.\n",
    "- $\\frac{\\partial J}{\\partial \\theta_j}=\\frac{1}{m}\\sum_{i=1}^{m}\\big(\\sigma(\\textbf{x}^{(i)}\\cdot\\theta^T) - y^{(i)}\\big)x_j^{(i)}$.\n",
    "\n",
    "**Question**: Why not use the mean-square-error (MSE) cost function?\n",
    "Answer: The cost function built with MSE is not convex for logistic regression."
   ]
  },
  {
   "cell_type": "code",
   "execution_count": null,
   "metadata": {},
   "outputs": [],
   "source": []
  },
  {
   "cell_type": "code",
   "execution_count": null,
   "metadata": {},
   "outputs": [],
   "source": []
  },
  {
   "cell_type": "markdown",
   "metadata": {},
   "source": [
    "## Logistic Regression: Varying The Threshold\n",
    "We can change the default threshold to improve classification accuracy of one particular class. The tradeoff usually is the reduced accuracy on the other class. \n",
    "- An **Receiver Operating Characteristics (ROC)** can be used to show such tradeoffs.\n",
    "    - x-axis: true positive rate (= true positive / (true positive + false negative))\n",
    "    - true positive rate is the percentage of correct predictions among all class 1 instances.\n",
    "    - y-axis: false positive rate (= false positive / (true negative + false positive))\n",
    "    - false positive rate is the percentage of wrong predictions among all class 0 instances.\n",
    "- The **Area Under Curve (AUC)** score of the ROC curve is often used to measure the quality of the model:\n",
    "    - AUC close to 1: The model give satisfactory classification results for most choices of thresholds.\n",
    "    - AUC close to 0.5: The model does poorly for most thresholds.\n"
   ]
  },
  {
   "cell_type": "code",
   "execution_count": 2,
   "metadata": {},
   "outputs": [],
   "source": [
    "import numpy as np\n",
    "import pandas as pd\n",
    "import matplotlib\n",
    "import matplotlib.pyplot as plt\n",
    "%matplotlib inline\n",
    "\n",
    "# Load the iris data\n",
    "from sklearn import datasets\n",
    "iris = datasets.load_iris()\n",
    "iris_df = pd.DataFrame(data=iris['data'], columns=iris['feature_names'])\n",
    "iris_df['target'] = iris['target']\n",
    "\n",
    "def get_target_name(x):\n",
    "    return iris['target_names'][x]\n",
    "\n",
    "iris_df['target_name'] = iris_df['target'].apply(get_target_name)\n",
    "\n",
    "def is_virginica(target):\n",
    "    if target == 'virginica':\n",
    "        return 1\n",
    "    else:\n",
    "        return 0\n",
    "    \n",
    "iris_df['Is_Virginica'] = iris_df['target_name'].apply(is_virginica)"
   ]
  },
  {
   "cell_type": "code",
   "execution_count": 3,
   "metadata": {},
   "outputs": [
    {
     "data": {
      "text/html": [
       "<div>\n",
       "<style scoped>\n",
       "    .dataframe tbody tr th:only-of-type {\n",
       "        vertical-align: middle;\n",
       "    }\n",
       "\n",
       "    .dataframe tbody tr th {\n",
       "        vertical-align: top;\n",
       "    }\n",
       "\n",
       "    .dataframe thead th {\n",
       "        text-align: right;\n",
       "    }\n",
       "</style>\n",
       "<table border=\"1\" class=\"dataframe\">\n",
       "  <thead>\n",
       "    <tr style=\"text-align: right;\">\n",
       "      <th></th>\n",
       "      <th>sepal length (cm)</th>\n",
       "      <th>sepal width (cm)</th>\n",
       "      <th>petal length (cm)</th>\n",
       "      <th>petal width (cm)</th>\n",
       "      <th>target</th>\n",
       "      <th>target_name</th>\n",
       "      <th>Is_Virginica</th>\n",
       "    </tr>\n",
       "  </thead>\n",
       "  <tbody>\n",
       "    <tr>\n",
       "      <td>0</td>\n",
       "      <td>5.1</td>\n",
       "      <td>3.5</td>\n",
       "      <td>1.4</td>\n",
       "      <td>0.2</td>\n",
       "      <td>0</td>\n",
       "      <td>setosa</td>\n",
       "      <td>0</td>\n",
       "    </tr>\n",
       "    <tr>\n",
       "      <td>1</td>\n",
       "      <td>4.9</td>\n",
       "      <td>3.0</td>\n",
       "      <td>1.4</td>\n",
       "      <td>0.2</td>\n",
       "      <td>0</td>\n",
       "      <td>setosa</td>\n",
       "      <td>0</td>\n",
       "    </tr>\n",
       "    <tr>\n",
       "      <td>2</td>\n",
       "      <td>4.7</td>\n",
       "      <td>3.2</td>\n",
       "      <td>1.3</td>\n",
       "      <td>0.2</td>\n",
       "      <td>0</td>\n",
       "      <td>setosa</td>\n",
       "      <td>0</td>\n",
       "    </tr>\n",
       "    <tr>\n",
       "      <td>3</td>\n",
       "      <td>4.6</td>\n",
       "      <td>3.1</td>\n",
       "      <td>1.5</td>\n",
       "      <td>0.2</td>\n",
       "      <td>0</td>\n",
       "      <td>setosa</td>\n",
       "      <td>0</td>\n",
       "    </tr>\n",
       "    <tr>\n",
       "      <td>4</td>\n",
       "      <td>5.0</td>\n",
       "      <td>3.6</td>\n",
       "      <td>1.4</td>\n",
       "      <td>0.2</td>\n",
       "      <td>0</td>\n",
       "      <td>setosa</td>\n",
       "      <td>0</td>\n",
       "    </tr>\n",
       "  </tbody>\n",
       "</table>\n",
       "</div>"
      ],
      "text/plain": [
       "   sepal length (cm)  sepal width (cm)  petal length (cm)  petal width (cm)  \\\n",
       "0                5.1               3.5                1.4               0.2   \n",
       "1                4.9               3.0                1.4               0.2   \n",
       "2                4.7               3.2                1.3               0.2   \n",
       "3                4.6               3.1                1.5               0.2   \n",
       "4                5.0               3.6                1.4               0.2   \n",
       "\n",
       "   target target_name  Is_Virginica  \n",
       "0       0      setosa             0  \n",
       "1       0      setosa             0  \n",
       "2       0      setosa             0  \n",
       "3       0      setosa             0  \n",
       "4       0      setosa             0  "
      ]
     },
     "execution_count": 3,
     "metadata": {},
     "output_type": "execute_result"
    }
   ],
   "source": [
    "iris_df.head()"
   ]
  },
  {
   "cell_type": "code",
   "execution_count": 6,
   "metadata": {},
   "outputs": [
    {
     "data": {
      "text/plain": [
       "LogisticRegression(C=1.0, class_weight=None, dual=False, fit_intercept=True,\n",
       "                   intercept_scaling=1, l1_ratio=None, max_iter=100,\n",
       "                   multi_class='warn', n_jobs=None, penalty='l2',\n",
       "                   random_state=None, solver='lbfgs', tol=0.0001, verbose=0,\n",
       "                   warm_start=False)"
      ]
     },
     "execution_count": 6,
     "metadata": {},
     "output_type": "execute_result"
    }
   ],
   "source": [
    "# Build logistic model\n",
    "from sklearn.linear_model import LogisticRegression\n",
    "model = LogisticRegression(solver='lbfgs')\n",
    "model.fit(iris_df.iloc[:, :4], iris_df['Is_Virginica'])"
   ]
  },
  {
   "cell_type": "code",
   "execution_count": 7,
   "metadata": {},
   "outputs": [
    {
     "name": "stdout",
     "output_type": "stream",
     "text": [
      "[[9.99998823e-01 1.17651820e-06]\n",
      " [9.99998354e-01 1.64562311e-06]\n",
      " [9.99998801e-01 1.19871885e-06]\n",
      " [9.99997641e-01 2.35892535e-06]\n",
      " [9.99998837e-01 1.16261302e-06]\n",
      " [9.99996675e-01 3.32532938e-06]\n",
      " [9.99998079e-01 1.92096293e-06]\n",
      " [9.99998273e-01 1.72706818e-06]\n",
      " [9.99997890e-01 2.10997626e-06]\n",
      " [9.99998354e-01 1.64569474e-06]\n",
      " [9.99998736e-01 1.26445883e-06]\n",
      " [9.99997495e-01 2.50528273e-06]\n",
      " [9.99998656e-01 1.34427430e-06]\n",
      " [9.99999320e-01 6.79645692e-07]\n",
      " [9.99999616e-01 3.84274180e-07]\n",
      " [9.99998728e-01 1.27174602e-06]\n",
      " [9.99998970e-01 1.02965205e-06]\n",
      " [9.99998502e-01 1.49820684e-06]\n",
      " [9.99997558e-01 2.44210286e-06]\n",
      " [9.99998278e-01 1.72177182e-06]\n",
      " [9.99997349e-01 2.65069071e-06]\n",
      " [9.99997692e-01 2.30803682e-06]\n",
      " [9.99999578e-01 4.21514910e-07]\n",
      " [9.99993514e-01 6.48579586e-06]\n",
      " [9.99993964e-01 6.03551167e-06]\n",
      " [9.99997157e-01 2.84296683e-06]\n",
      " [9.99996246e-01 3.75440767e-06]\n",
      " [9.99998484e-01 1.51619179e-06]\n",
      " [9.99998809e-01 1.19058968e-06]\n",
      " [9.99997112e-01 2.88785566e-06]\n",
      " [9.99997078e-01 2.92239516e-06]\n",
      " [9.99997608e-01 2.39184544e-06]\n",
      " [9.99999125e-01 8.75016821e-07]\n",
      " [9.99999299e-01 7.01483345e-07]\n",
      " [9.99997904e-01 2.09566737e-06]\n",
      " [9.99999206e-01 7.94400036e-07]\n",
      " [9.99999250e-01 7.49531563e-07]\n",
      " [9.99999050e-01 9.49713610e-07]\n",
      " [9.99998505e-01 1.49519355e-06]\n",
      " [9.99998340e-01 1.66027052e-06]\n",
      " [9.99998837e-01 1.16256242e-06]\n",
      " [9.99997378e-01 2.62179310e-06]\n",
      " [9.99998651e-01 1.34930220e-06]\n",
      " [9.99994216e-01 5.78352950e-06]\n",
      " [9.99992919e-01 7.08095301e-06]\n",
      " [9.99997820e-01 2.17988742e-06]\n",
      " [9.99998187e-01 1.81254411e-06]\n",
      " [9.99998328e-01 1.67160659e-06]\n",
      " [9.99998685e-01 1.31533182e-06]\n",
      " [9.99998644e-01 1.35618043e-06]\n",
      " [8.42373044e-01 1.57626956e-01]\n",
      " [8.56164003e-01 1.43835997e-01]\n",
      " [6.80773317e-01 3.19226683e-01]\n",
      " [9.48613961e-01 5.13860389e-02]\n",
      " [7.89980684e-01 2.10019316e-01]\n",
      " [8.56406404e-01 1.43593596e-01]\n",
      " [7.24679300e-01 2.75320700e-01]\n",
      " [9.95958313e-01 4.04168745e-03]\n",
      " [8.69779170e-01 1.30220830e-01]\n",
      " [9.54955557e-01 4.50444430e-02]\n",
      " [9.91464730e-01 8.53527013e-03]\n",
      " [9.13974476e-01 8.60255242e-02]\n",
      " [9.77831280e-01 2.21687198e-02]\n",
      " [7.62599846e-01 2.37400154e-01]\n",
      " [9.88288866e-01 1.17111340e-02]\n",
      " [9.15721528e-01 8.42784722e-02]\n",
      " [7.96662128e-01 2.03337872e-01]\n",
      " [9.75189101e-01 2.48108990e-02]\n",
      " [7.67019493e-01 2.32980507e-01]\n",
      " [9.78840003e-01 2.11599973e-02]\n",
      " [4.95543134e-01 5.04456866e-01]\n",
      " [9.67983844e-01 3.20161563e-02]\n",
      " [5.52964176e-01 4.47035824e-01]\n",
      " [8.31888638e-01 1.68111362e-01]\n",
      " [9.36990088e-01 6.30099124e-02]\n",
      " [9.08446038e-01 9.15539621e-02]\n",
      " [7.50012355e-01 2.49987645e-01]\n",
      " [4.62718559e-01 5.37281441e-01]\n",
      " [8.13362202e-01 1.86637798e-01]\n",
      " [9.95222717e-01 4.77728286e-03]\n",
      " [9.82648360e-01 1.73516395e-02]\n",
      " [9.89762036e-01 1.02379644e-02]\n",
      " [9.77557566e-01 2.24424336e-02]\n",
      " [3.47307272e-01 6.52692728e-01]\n",
      " [7.83583374e-01 2.16416626e-01]\n",
      " [8.15622663e-01 1.84377337e-01]\n",
      " [7.79819256e-01 2.20180744e-01]\n",
      " [8.86838171e-01 1.13161829e-01]\n",
      " [9.53528563e-01 4.64714368e-02]\n",
      " [9.53394209e-01 4.66057915e-02]\n",
      " [8.94636155e-01 1.05363845e-01]\n",
      " [8.19269773e-01 1.80730227e-01]\n",
      " [9.68619404e-01 3.13805963e-02]\n",
      " [9.95910170e-01 4.08982951e-03]\n",
      " [9.29185304e-01 7.08146960e-02]\n",
      " [9.52996925e-01 4.70030745e-02]\n",
      " [9.37984825e-01 6.20151747e-02]\n",
      " [9.32168764e-01 6.78312362e-02]\n",
      " [9.98120409e-01 1.87959142e-03]\n",
      " [9.50645302e-01 4.93546977e-02]\n",
      " [6.57597912e-03 9.93424021e-01]\n",
      " [1.92333905e-01 8.07666095e-01]\n",
      " [2.66942228e-02 9.73305777e-01]\n",
      " [8.63726787e-02 9.13627321e-01]\n",
      " [2.22798194e-02 9.77720181e-01]\n",
      " [4.27520074e-03 9.95724799e-01]\n",
      " [5.86461838e-01 4.13538162e-01]\n",
      " [1.77072342e-02 9.82292766e-01]\n",
      " [4.77665911e-02 9.52233409e-01]\n",
      " [8.14788060e-03 9.91852119e-01]\n",
      " [2.41615748e-01 7.58384252e-01]\n",
      " [1.43757953e-01 8.56242047e-01]\n",
      " [7.29498534e-02 9.27050147e-01]\n",
      " [1.78630865e-01 8.21369135e-01]\n",
      " [6.96465729e-02 9.30353427e-01]\n",
      " [7.62382412e-02 9.23761759e-01]\n",
      " [1.26149663e-01 8.73850337e-01]\n",
      " [3.92944653e-03 9.96070553e-01]\n",
      " [9.30168803e-04 9.99069831e-01]\n",
      " [4.12710922e-01 5.87289078e-01]\n",
      " [3.01862602e-02 9.69813740e-01]\n",
      " [2.46381326e-01 7.53618674e-01]\n",
      " [3.81405519e-03 9.96185945e-01]\n",
      " [3.98958421e-01 6.01041579e-01]\n",
      " [4.68039560e-02 9.53196044e-01]\n",
      " [4.64375736e-02 9.53562426e-01]\n",
      " [4.73816460e-01 5.26183540e-01]\n",
      " [4.17098910e-01 5.82901090e-01]\n",
      " [4.32820632e-02 9.56717937e-01]\n",
      " [1.13531081e-01 8.86468919e-01]\n",
      " [2.45223980e-02 9.75477602e-01]\n",
      " [1.64030712e-02 9.83596929e-01]\n",
      " [3.43075426e-02 9.65692457e-01]\n",
      " [4.45339771e-01 5.54660229e-01]\n",
      " [1.64543438e-01 8.35456562e-01]\n",
      " [1.17837835e-02 9.88216216e-01]\n",
      " [2.78591293e-02 9.72140871e-01]\n",
      " [1.27466131e-01 8.72533869e-01]\n",
      " [4.79748238e-01 5.20251762e-01]\n",
      " [1.03551761e-01 8.96448239e-01]\n",
      " [2.79615986e-02 9.72038401e-01]\n",
      " [1.46474240e-01 8.53525760e-01]\n",
      " [1.92333905e-01 8.07666095e-01]\n",
      " [1.63774475e-02 9.83622553e-01]\n",
      " [1.83304275e-02 9.81669572e-01]\n",
      " [1.01029527e-01 8.98970473e-01]\n",
      " [2.59749189e-01 7.40250811e-01]\n",
      " [1.76593822e-01 8.23406178e-01]\n",
      " [5.93064213e-02 9.40693579e-01]\n",
      " [2.68988857e-01 7.31011143e-01]]\n"
     ]
    }
   ],
   "source": [
    "probs = model.predict_proba(iris_df.iloc[:, :4])\n",
    "print(probs)"
   ]
  },
  {
   "cell_type": "code",
   "execution_count": 20,
   "metadata": {},
   "outputs": [
    {
     "data": {
      "text/plain": [
       "[<matplotlib.lines.Line2D at 0x1f94143cfc8>]"
      ]
     },
     "execution_count": 20,
     "metadata": {},
     "output_type": "execute_result"
    },
    {
     "data": {
      "image/png": "[encoded data removed]",
      "text/plain": [
       "<Figure size 432x288 with 1 Axes>"
      ]
     },
     "metadata": {
      "needs_background": "light"
     },
     "output_type": "display_data"
    }
   ],
   "source": [
    "from sklearn.metrics import roc_curve\n",
    "fpr, tpr, thresholds = roc_curve(iris_df['Is_Virginica'], probs[:, 1])\n",
    "\n",
    "plt.plot(fpr, tpr)\n",
    "plt.xlabel('False Positive Rate')\n",
    "plt.ylabel('True Positve Rate')\n",
    "\n",
    "# worse case: tpr increases along with fpr\n",
    "plt.plot([0, 1], [0, 1], 'b--')"
   ]
  },
  {
   "cell_type": "code",
   "execution_count": 22,
   "metadata": {},
   "outputs": [
    {
     "data": {
      "text/plain": [
       "0.9975999999999999"
      ]
     },
     "execution_count": 22,
     "metadata": {},
     "output_type": "execute_result"
    }
   ],
   "source": [
    "from sklearn.metrics import roc_auc_score\n",
    "\n",
    "roc_auc_score(iris_df['Is_Virginica'], probs[:, 1])\n",
    "\n",
    "# close to 1: the model's performance is very good for all types of thresholds.\n",
    "# close to 0.5: the model's performace is poor"
   ]
  },
  {
   "cell_type": "markdown",
   "metadata": {},
   "source": [
    "## Logistic Regression for Multiple Classes (Softmax regression)\n",
    "**model**:\n",
    "\n",
    "$\\hat{p}_k = \\frac{\\exp(s_k(\\textbf{x}))}{\\sum_{i=1}^K\\exp(s_i(\\textbf{x}))}$.\n",
    "\n",
    "$s_k(\\textbf{x}) = \\textbf{x}\\cdot\\theta_k^T$\n",
    "\n",
    "- $\\hat{p}_k$ is the probability that the instance belongs to class $k$.\n",
    "- K is the number of classes.\n",
    "- $\\theta_k$ is the coefficient vector associated with class $k$. All these vectors are stored as rows in a parameter matrix $\\Theta$.\n",
    "- The softmax classifier predicts the class with the highest estimated probability (which is simply the class with the highest score).\n",
    "\n",
    "**Cross entropy cost function**\n",
    "\n",
    "$J(\\Theta) = -\\frac{1}{m}\\sum_{i=1}^m\\sum_{k=1}^K\n",
    "y_k^{(i)}\\log(\\hat{p}_k^{(i)})$\n",
    "\n",
    "- $y_k^{(i)}$ is equal to 1 if the target for the i-th instance is $k$; otherwise, it is equal to 0.\n"
   ]
  },
  {
   "cell_type": "markdown",
   "metadata": {},
   "source": [
    "## Classifying Iris Data"
   ]
  },
  {
   "cell_type": "code",
   "execution_count": 2,
   "metadata": {},
   "outputs": [],
   "source": [
    "# Train-test split\n",
    "from sklearn.model_selection import train_test_split\n",
    "\n"
   ]
  },
  {
   "cell_type": "code",
   "execution_count": 1,
   "metadata": {},
   "outputs": [],
   "source": [
    "# Build the logistic regression model\n",
    "from sklearn.linear_model import LogisticRegression\n",
    "\n"
   ]
  },
  {
   "cell_type": "code",
   "execution_count": 3,
   "metadata": {},
   "outputs": [],
   "source": [
    "# Calculate the training accuracy and testing accuracy\n",
    "from sklearn.metrics import accuracy_score\n",
    "\n"
   ]
  },
  {
   "cell_type": "code",
   "execution_count": 4,
   "metadata": {},
   "outputs": [],
   "source": [
    "# Display the confusion matrix\n",
    "from sklearn.metrics import confusion_matrix\n",
    "\n"
   ]
  },
  {
   "cell_type": "code",
   "execution_count": null,
   "metadata": {},
   "outputs": [],
   "source": [
    "# Perform 3-fold cross validation\n",
    "from sklearn.model_selection import cross_val_score\n",
    "\n"
   ]
  },
  {
   "cell_type": "code",
   "execution_count": null,
   "metadata": {},
   "outputs": [],
   "source": [
    "# Plot ROC curve for each class\n",
    "\n"
   ]
  },
  {
   "cell_type": "markdown",
   "metadata": {},
   "source": [
    "## Homework:\n",
    "\n",
    "1. Divide the dataset randomly into 80% training set and 20% test set, and build a logistic classifier to identify Iris-Setosa using the petal width and petal length. \n",
    "2. Calculate test accuracy, precision, recall, f1-score.\n",
    "3. Plot the ROC curve and calculate AUC.\n",
    "4. (optional for undergraduates) Build a grid of points using `np.meshgrid` and use their probabilities to draw the decision boundary of the model."
   ]
  },
  {
   "cell_type": "code",
   "execution_count": null,
   "metadata": {},
   "outputs": [],
   "source": []
  }
 ],
 "metadata": {
  "kernelspec": {
   "display_name": "Python 3",
   "language": "python",
   "name": "python3"
  },
  "language_info": {
   "codemirror_mode": {
    "name": "ipython",
    "version": 3
   },
   "file_extension": ".py",
   "mimetype": "text/x-python",
   "name": "python",
   "nbconvert_exporter": "python",
   "pygments_lexer": "ipython3",
   "version": "3.7.4"
  }
 },
 "nbformat": 4,
 "nbformat_minor": 2
}
