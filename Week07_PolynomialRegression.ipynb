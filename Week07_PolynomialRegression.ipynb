{
 "cells": [
  {
   "cell_type": "markdown",
   "metadata": {},
   "source": [
    "# Week 7\n",
    "# Logarithmic Regression and Polynomial Regression\n",
    "\n",
    "What if the data is actually more complex than a simple straight line? A simple way to do this is to powers of original features as new features, then train a linear model on this extended set of features. This technique is called **Polynomial Regression**."
   ]
  },
  {
   "cell_type": "markdown",
   "metadata": {},
   "source": [
    "## Polynomial Regression: Model Representation\n",
    "- The polynomial regression model assumes that the relationship between the input variable $X$ and the output variable $Y$ can be approximately described as\n",
    "$$Y \\approx f(X) = \\theta_0 + \\theta_1 X + \\theta_2 X^2 +\\cdots + \\theta_d X^d.$$\n",
    "- There is a single input variable $X$, which appears in each term expect for the constant term.\n",
    "- The degree $d$ is determined by the researcher. In pratice $d$ is rarely above 4."
   ]
  },
  {
   "cell_type": "markdown",
   "metadata": {},
   "source": [
    "To illustrate the similarities and differences between linear regression and polynomial regression, let's consider the following dataset."
   ]
  },
  {
   "cell_type": "code",
   "execution_count": 2,
   "metadata": {},
   "outputs": [],
   "source": [
    "import numpy as np\n",
    "import pandas as pd\n",
    "import matplotlib.pyplot as plt\n",
    "%matplotlib inline"
   ]
  },
  {
   "cell_type": "code",
   "execution_count": 5,
   "metadata": {},
   "outputs": [
    {
     "data": {
      "text/plain": [
       "[<matplotlib.lines.Line2D at 0x7f34cda78390>]"
      ]
     },
     "execution_count": 5,
     "metadata": {},
     "output_type": "execute_result"
    },
    {
     "data": {
      "image/png": "[encoded data removed]",
      "text/plain": [
       "<Figure size 432x288 with 1 Axes>"
      ]
     },
     "metadata": {
      "needs_background": "light"
     },
     "output_type": "display_data"
    }
   ],
   "source": [
    "# Generate a data set\n",
    "m = 100\n",
    "X = 6 * np.random.rand(m, 1) - 3\n",
    "y = 0.5 * X ** 2 + X + 2 + np.random.randn(m, 1)\n",
    "plt.plot(X, y, 'c.')"
   ]
  },
  {
   "cell_type": "markdown",
   "metadata": {},
   "source": [
    "Find the best linear fit of the data, and calculate the MSE."
   ]
  },
  {
   "cell_type": "code",
   "execution_count": 6,
   "metadata": {},
   "outputs": [
    {
     "data": {
      "text/plain": [
       "LinearRegression(copy_X=True, fit_intercept=True, n_jobs=None,\n",
       "         normalize=False)"
      ]
     },
     "execution_count": 6,
     "metadata": {},
     "output_type": "execute_result"
    }
   ],
   "source": [
    "from sklearn.linear_model import LinearRegression\n",
    "model_lr = LinearRegression()\n",
    "model_lr.fit(X, y)"
   ]
  },
  {
   "cell_type": "code",
   "execution_count": 8,
   "metadata": {},
   "outputs": [
    {
     "data": {
      "text/plain": [
       "[<matplotlib.lines.Line2D at 0x7f34c78d9080>]"
      ]
     },
     "execution_count": 8,
     "metadata": {},
     "output_type": "execute_result"
    },
    {
     "data": {
      "image/png": "[encoded data removed]",
      "text/plain": [
       "<Figure size 432x288 with 1 Axes>"
      ]
     },
     "metadata": {
      "needs_background": "light"
     },
     "output_type": "display_data"
    }
   ],
   "source": [
    "plt.plot(X, y, 'c.')\n",
    "x_coordinates = np.array([-3, 3])\n",
    "y_coordinates = x_coordinates * model_lr.coef_[0] + model_lr.intercept_\n",
    "plt.plot(x_coordinates, y_coordinates, 'm-')"
   ]
  },
  {
   "cell_type": "code",
   "execution_count": 10,
   "metadata": {},
   "outputs": [
    {
     "name": "stdout",
     "output_type": "stream",
     "text": [
      "MSE: 2.957556197252338\n"
     ]
    }
   ],
   "source": [
    "from sklearn.metrics import mean_squared_error\n",
    "predictions = model_lr.predict(X)\n",
    "mse = mean_squared_error(y, predictions)\n",
    "print(\"MSE:\", mse)"
   ]
  },
  {
   "cell_type": "markdown",
   "metadata": {},
   "source": [
    "## Polynomial Regression: Training Algorithm\n",
    "The polynomial regression can actually be treated as multilinear regression with feature transformation in the following way:\n",
    "1. Transform the original feature $X$ to a set of new features:\n",
    "    - $Z_1 = X$\n",
    "    - $Z_2 = X^2$\n",
    "    - $Z_3 = X^3$\n",
    "    - $\\cdots$\n",
    "    - $Z_d = X^d$\n",
    "2. Then the model can be expressed as a multilinear model on $Z$'s:\n",
    "$$Y \\approx \\theta_0 + \\theta_1Z_1 + \\theta_2Z_2 +\\cdots + \\theta_dZ_d$$.\n",
    "3. Train the model as multilinear regression (use the normal equation or gradient descent)\n",
    "    - To use the normal equation, the matrix $\\textbf{X}$ and $\\textbf{y}$ should be defined as\n",
    "    $$\\textbf{X} = \\begin{pmatrix}\n",
    "    1 & x^{(1)} & (x^{(1)})^2 & \\cdots & (x^{(1)})^d \\\\\n",
    "    1 & x^{(2)} & (x^{(2)})^2 & \\cdots & (x^{(2)})^d \\\\\n",
    "    \\vdots & \\vdots & \\vdots &\\ddots & \\vdots \\\\\n",
    "    1 & x^{(m)} & (x^{(m)})^2 & \\cdots & (x^{(m)})^d \\\\\n",
    "    \\end{pmatrix}, \\textbf{y} = \\begin{pmatrix}\n",
    "    y^{(1)}\\\\\n",
    "    y^{(2)}\\\\\n",
    "    \\vdots\\\\\n",
    "    y^{(m)}\n",
    "    \\end{pmatrix}$$"
   ]
  },
  {
   "cell_type": "code",
   "execution_count": 13,
   "metadata": {},
   "outputs": [
    {
     "name": "stdout",
     "output_type": "stream",
     "text": [
      "[[2.06698892]\n",
      " [0.9421227 ]\n",
      " [0.48256361]]\n"
     ]
    }
   ],
   "source": [
    "# Apply the normal equation to find the degree 2 polynomial fit of X and y\n",
    "ones = np.ones([m, 1])\n",
    "X2 = X ** 2\n",
    "X_matrix = np.hstack([ones, X, X2])\n",
    "# print(X_matrix)\n",
    "theta = np.linalg.inv(X_matrix.T.dot(X_matrix)).dot(X_matrix.T).dot(y)\n",
    "print(theta)"
   ]
  },
  {
   "cell_type": "code",
   "execution_count": 15,
   "metadata": {},
   "outputs": [
    {
     "name": "stdout",
     "output_type": "stream",
     "text": [
      "[[0.9421227  0.48256361]] [2.06698892]\n"
     ]
    }
   ],
   "source": [
    "# Use sklearn\n",
    "from sklearn.preprocessing import PolynomialFeatures\n",
    "poly_features = PolynomialFeatures(degree=2, include_bias=False)\n",
    "poly_features.fit(X)\n",
    "X_poly = poly_features.transform(X)\n",
    "\n",
    "model_pr = LinearRegression()\n",
    "model_pr.fit(X_poly, y)\n",
    "print(model_pr.coef_, model_pr.intercept_)"
   ]
  },
  {
   "cell_type": "code",
   "execution_count": 16,
   "metadata": {},
   "outputs": [
    {
     "name": "stdout",
     "output_type": "stream",
     "text": [
      "MSE: 1.1267265500719306\n"
     ]
    }
   ],
   "source": [
    "# Calculate the MSE of the degree-2 polynomial regression\n",
    "predictions = model_pr.predict(X_poly)\n",
    "mse = mean_squared_error(y, predictions)\n",
    "print(\"MSE:\", mse)"
   ]
  },
  {
   "cell_type": "code",
   "execution_count": 19,
   "metadata": {},
   "outputs": [
    {
     "data": {
      "text/plain": [
       "[<matplotlib.lines.Line2D at 0x7f34c781fb00>]"
      ]
     },
     "execution_count": 19,
     "metadata": {},
     "output_type": "execute_result"
    },
    {
     "data": {
      "image/png": "[encoded data removed]",
      "text/plain": [
       "<Figure size 432x288 with 1 Axes>"
      ]
     },
     "metadata": {
      "needs_background": "light"
     },
     "output_type": "display_data"
    }
   ],
   "source": [
    "# Visualize the regression curve\n",
    "plt.plot(X, y, 'c.')\n",
    "x_coordinates = np.linspace(-3, 3, 100)\n",
    "x_coordinates_poly = poly_features.transform(x_coordinates.reshape([-1, 1]))\n",
    "y_coordinates = model_pr.predict(x_coordinates_poly)\n",
    "plt.plot(x_coordinates, y_coordinates, 'm-')"
   ]
  },
  {
   "cell_type": "markdown",
   "metadata": {},
   "source": [
    "## Polynomial Regression: Overfitting\n",
    "Polynomial regression with greater $d$ tends to fit the training data better. However, the performance may not carry to new data.\n",
    "<img src=\"https://docs.aws.amazon.com/machine-learning/latest/dg/images/mlconcepts_image5.png\" width=\"600\">\n",
    "<img src=\"https://miro.medium.com/fit/c/1838/551/0*Wup-0b5KI6-8cJB4.jpg\" width=\"600\">"
   ]
  },
  {
   "cell_type": "code",
   "execution_count": 27,
   "metadata": {},
   "outputs": [
    {
     "name": "stdout",
     "output_type": "stream",
     "text": [
      "MSE: 0.9328250140569004\n"
     ]
    }
   ],
   "source": [
    "# Train a degree 20 polynomial to fit X and y\n",
    "poly_features = PolynomialFeatures(degree=20, include_bias=False)\n",
    "poly_features.fit(X)\n",
    "X_poly = poly_features.transform(X)\n",
    "\n",
    "model_pr = LinearRegression()\n",
    "model_pr.fit(X_poly, y)\n",
    "predictions = model_pr.predict(X_poly)\n",
    "mse = mean_squared_error(y, predictions)\n",
    "print(\"MSE:\", mse)"
   ]
  },
  {
   "cell_type": "code",
   "execution_count": 28,
   "metadata": {},
   "outputs": [
    {
     "data": {
      "text/plain": [
       "(0, 10)"
      ]
     },
     "execution_count": 28,
     "metadata": {},
     "output_type": "execute_result"
    },
    {
     "data": {
      "image/png": "[encoded data removed]",
      "text/plain": [
       "<Figure size 432x288 with 1 Axes>"
      ]
     },
     "metadata": {
      "needs_background": "light"
     },
     "output_type": "display_data"
    }
   ],
   "source": [
    "plt.plot(X, y, 'c.')\n",
    "x_coordinates = np.linspace(-3, 3, 100)\n",
    "x_coordinates_poly = poly_features.transform(x_coordinates.reshape([-1, 1]))\n",
    "y_coordinates = model_pr.predict(x_coordinates_poly)\n",
    "plt.plot(x_coordinates, y_coordinates, 'm-')\n",
    "plt.ylim(0, 10)"
   ]
  },
  {
   "cell_type": "markdown",
   "metadata": {},
   "source": [
    "## Identify Overfitting:\n",
    "1. Train-test split\n",
    "2. Learning curve\n",
    "3. Cross validation\n",
    "4. Visualization "
   ]
  },
  {
   "cell_type": "markdown",
   "metadata": {},
   "source": [
    "## Other Expansions of Linear Regression\n",
    "- Exponential or logarithmic terms\n",
    "- Polynomial with multiple variables\n",
    "- Local polynomial\n",
    "- Classification"
   ]
  },
  {
   "cell_type": "markdown",
   "metadata": {},
   "source": [
    "# Homework\n",
    "Perform 3-fold cross validation on TV vs. Sales by the following the instructions:\n",
    "1. Use train_test split twice to randomly split the data into 3 subsets `data1`, `data2`, `data3`, each containing one third of data.\n",
    "2. Train polynomial regression model with degree = 1, 2, 5, 10 on `data1` and `data2`, calculate the MSE on `data3`.\n",
    "3. Train polynomial regression model with degree = 1, 2, 5, 10 on `data2` and `data3`, calculate the MSE on `data1`.\n",
    "4. Train polynomial regression model with degree = 1, 2, 5, 10 on `data1` and `data4`, calculate the MSE on `data1`.\n",
    "5. Now each of the four models has three mse values. Compare the average mse value of the models. Which model has the lowest average MSE?"
   ]
  },
  {
   "cell_type": "code",
   "execution_count": null,
   "metadata": {},
   "outputs": [],
   "source": []
  }
 ],
 "metadata": {
  "kernelspec": {
   "display_name": "Python 3",
   "language": "python",
   "name": "python3"
  },
  "language_info": {
   "codemirror_mode": {
    "name": "ipython",
    "version": 3
   },
   "file_extension": ".py",
   "mimetype": "text/x-python",
   "name": "python",
   "nbconvert_exporter": "python",
   "pygments_lexer": "ipython3",
   "version": "3.7.0"
  }
 },
 "nbformat": 4,
 "nbformat_minor": 2
}
