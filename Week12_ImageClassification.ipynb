{
 "cells": [
  {
   "cell_type": "markdown",
   "metadata": {},
   "source": [
    "# Week 12\n",
    "# Image Classification with Convolutional Neural Network (CNN)"
   ]
  },
  {
   "cell_type": "markdown",
   "metadata": {},
   "source": [
    "### Ideas\n",
    "- Dense layers may contain redudent connections\n",
    "- Some information should be invariant to spacial translation\n",
    "- The number of parameters can be reduced if certain weights share the same value.\n",
    "\n",
    "<img src=\"https://encrypted-tbn0.gstatic.com/images?q=tbn%3AANd9GcS4LZdFg5QPbgDb-jvP-YT0N51eRkWg45uF0ybsB5k0Ubr0-gOC&usqp=CAU\" width=\"400\">"
   ]
  },
  {
   "cell_type": "markdown",
   "metadata": {},
   "source": [
    "## 2D Convolution Layer\n",
    "<img src=\"https://cdn-media-1.freecodecamp.org/images/Gjxh-aApWTzIRI1UNmGnNLrk8OKsQaf2tlDu\" width=\"600\">"
   ]
  },
  {
   "cell_type": "markdown",
   "metadata": {},
   "source": [
    "**2D smoothing with Gaussian kernel**\n",
    "\n",
    "<img src=\"https://www.cs.umd.edu/class/fall2016/cmsc426/matlab/filters/html/filters_tutorial_03.png\" width=\"400\"><img src=\"https://www.mathworks.com/help/examples/stats/win64/ComputeTheMultivariateNormalPdfExample_01.png\" width=\"200\">\n",
    "\n",
    "**Edge detection**\n",
    "\n",
    "<img src=\"https://aishack.in/static/img/tut/conv-line-detection-horizontal-result.jpg\" width=\"400\"><img src=\"https://www.researchgate.net/profile/Ching-Wei_Wang/publication/221472523/figure/fig5/AS:305540338077700@1449857901164/Convolution-filter-for-simple-edge-detect.png\" width=\"200\">"
   ]
  },
  {
   "cell_type": "markdown",
   "metadata": {},
   "source": [
    "## LeNet5 on MNIST\n",
    "\n",
    "Yann LeCun, Leon Bottou, Yosuha Bengio and Patrick Haffner proposed a neural network architecture for handwritten and machine-printed character recognition in 1990’s which they called LeNet-5. It is one of the early example of a convolutional neural network\n",
    "\n",
    "<img src=\"https://miro.medium.com/max/4308/1*1TI1aGBZ4dybR6__DI9dzA.png\" width=\"600\">"
   ]
  },
  {
   "cell_type": "markdown",
   "metadata": {},
   "source": [
    "## Max-Pooling Layer\n",
    "<img src=\"https://computersciencewiki.org/images/8/8a/MaxpoolSample2.png\" width=\"500\">"
   ]
  },
  {
   "cell_type": "code",
   "execution_count": 2,
   "metadata": {},
   "outputs": [
    {
     "name": "stdout",
     "output_type": "stream",
     "text": [
      "2.1.0\n"
     ]
    }
   ],
   "source": [
    "import os\n",
    "import numpy as np\n",
    "import pandas as pd\n",
    "import matplotlib.pyplot as plt\n",
    "\n",
    "import tensorflow as tf\n",
    "# import tensorflow.keras as K\n",
    "print(tf.__version__)"
   ]
  },
  {
   "cell_type": "code",
   "execution_count": null,
   "metadata": {
    "scrolled": true
   },
   "outputs": [],
   "source": [
    "# Load and prepare the MNIST dataset.\n",
    "mnist = tf.keras.datasets.mnist\n",
    "(x_train, y_train), (x_test, y_test) = mnist.load_data()\n",
    "\n",
    "# Convert the data from integers to floating-point numbers\n",
    "x_train, x_test = x_train / 255.0, x_test / 255.0\n",
    "\n",
    "print(x_train.shape, x_test.shape)"
   ]
  },
  {
   "cell_type": "code",
   "execution_count": null,
   "metadata": {},
   "outputs": [],
   "source": [
    "model_cnn = tf.keras.models.Sequential()\n",
    "\n",
    "model_cnn.add(tf.keras.layers.Conv2D(filters=6,\n",
    "                                 kernel_size=(3, 3),\n",
    "                                 activation='relu',\n",
    "                                 input_shape=(28, 28, 1)))\n",
    "\n",
    "model_cnn.add(tf.keras.layers.Conv2D(filters=16,\n",
    "                                 kernel_size=(3, 3),\n",
    "                                 activation='relu'))\n",
    "\n",
    "model_cnn.add(tf.keras.layers.MaxPooling2D())\n",
    "\n",
    "model_cnn.add(tf.keras.layers.Flatten())\n",
    "\n",
    "model_cnn.add(tf.keras.layers.Dense(units=120,\n",
    "                       activation='relu'))\n",
    "model_cnn.add(tf.keras.layers.Dense(units=84,\n",
    "                       activation='relu'))\n",
    "model_cnn.add(tf.keras.layers.Dense(units=10,\n",
    "                       activation='softmax'))"
   ]
  },
  {
   "cell_type": "code",
   "execution_count": null,
   "metadata": {},
   "outputs": [],
   "source": [
    "26 * 26 * 6"
   ]
  },
  {
   "cell_type": "code",
   "execution_count": null,
   "metadata": {
    "scrolled": true
   },
   "outputs": [],
   "source": [
    "model_cnn.summary()"
   ]
  },
  {
   "cell_type": "code",
   "execution_count": null,
   "metadata": {},
   "outputs": [],
   "source": [
    "model_cnn.compile(loss=tf.keras.losses.SparseCategoricalCrossentropy(from_logits=True),\n",
    "              optimizer=tf.keras.optimizers.Adam(),\n",
    "              metrics=['accuracy'])"
   ]
  },
  {
   "cell_type": "code",
   "execution_count": null,
   "metadata": {},
   "outputs": [],
   "source": [
    "# list(x_train.shape): [28, 28]\n",
    "# list(x_train.shape) + [1]: [28, 28, 1]\n",
    "\n",
    "# 2D array [[1, 2, 3],\n",
    "#           [4, 5, 6]]\n",
    "\n",
    "# 3D array [[[1, 2, 3],\n",
    "#            [4, 5, 6]]]"
   ]
  },
  {
   "cell_type": "code",
   "execution_count": null,
   "metadata": {
    "scrolled": true
   },
   "outputs": [],
   "source": [
    "model_cnn.fit(x_train.reshape(list(x_train.shape) + [1]), y_train, epochs=10)"
   ]
  },
  {
   "cell_type": "code",
   "execution_count": null,
   "metadata": {},
   "outputs": [],
   "source": [
    "model_cnn.evaluate(x_test.reshape(list(x_test.shape) + [1]), y_test)"
   ]
  },
  {
   "cell_type": "markdown",
   "metadata": {},
   "source": [
    "## Dropout and Model Regularization\n",
    "For a complicated model like deep neural networks, a major concern on its performance is model overfitting:\n",
    "![underfitting and overfitting](https://cdn-images-1.medium.com/max/1200/1*cdvfzvpkJkUudDEryFtCnA.png)\n",
    "In plain words, overfitting happens when the model is **memorizing** the training data, and become poorly at **generalizing** what they've learned to unseen data. Think about a student who memorized the entire machine learning textbook. He may appear quite knowledgable in machine learning when asked things directly from the book, but there is no way he can perform a machine project on a dataset not mentioned in the book.\n",
    "\n",
    "### How to dentify model overfitting?\n",
    "- Visualize the model (decision boundary, regression curves, etc.)\n",
    "- Observe the trends in training loss and the testing loss\n",
    "![](https://cdn-images-1.medium.com/max/1600/1*vuZxFMi5fODz2OEcpG-S1g.png)\n",
    "\n",
    "### How to prevent model overfitting?\n",
    "1. Start with a simple model\n",
    "![](https://image.slidesharecdn.com/lawsofwebdesign-091104020153-phpapp01/95/laws-of-web-development-11-728.jpg?cb=1257384621)\n",
    "2. Add penalty to complicated models\n",
    "    - L1 Regularizor\n",
    "    - L2 Regularizor\n",
    "    - Elastic Net\n",
    "\n",
    "3. (For Neural Networks) Dropout layers: remove weights to the next layer\n",
    "![](https://cdn-images-1.medium.com/max/1800/1*iWQzxhVlvadk6VAJjsgXgg.png)\n"
   ]
  },
  {
   "cell_type": "markdown",
   "metadata": {},
   "source": [
    "# Image Classification with CIFAR-10 Dataset\n",
    "[CIFAR-10](https://www.cs.toronto.edu/~kriz/cifar.html) is a widely used benchmark dataset for image classifiers. The dataset consists of 10 classes of color images of size $32\\times 32$. Let's build a neural network with **convolutional layers** to classify the images."
   ]
  },
  {
   "cell_type": "markdown",
   "metadata": {},
   "source": [
    "### Download the dataset\n",
    "- Use `request` to download the tar file from [https://www.cs.toronto.edu/~kriz/cifar-10-python.tar.gz](https://www.cs.toronto.edu/~kriz/cifar-10-python.tar.gz)\n",
    "- Use `tarfile` to extract files\n",
    "- Use `pickle` to load the data"
   ]
  },
  {
   "cell_type": "code",
   "execution_count": 4,
   "metadata": {
    "scrolled": true
   },
   "outputs": [
    {
     "name": "stdout",
     "output_type": "stream",
     "text": [
      "Downloading CIFAR10 dataset...\n",
      "Writing to file cifar-10-python.tar.gz ...\n"
     ]
    }
   ],
   "source": [
    "import requests\n",
    "\n",
    "filename = \"cifar-10-python.tar.gz\"\n",
    "if not os.path.isfile(filename):\n",
    "    print(\"Downloading CIFAR10 dataset...\")\n",
    "    url = \"https://www.cs.toronto.edu/~kriz/cifar-10-python.tar.gz\"\n",
    "    file = requests.get(url)\n",
    "\n",
    "    print(\"Writing to file\", filename, \"...\")\n",
    "    with open(filename, \"wb\") as f:\n",
    "        f.write(file.content)"
   ]
  },
  {
   "cell_type": "code",
   "execution_count": 5,
   "metadata": {},
   "outputs": [
    {
     "name": "stdout",
     "output_type": "stream",
     "text": [
      "Extracting files...\n",
      "Files extracted.\n"
     ]
    },
    {
     "data": {
      "text/plain": [
       "['batches.meta',\n",
       " 'data_batch_1',\n",
       " 'data_batch_2',\n",
       " 'data_batch_3',\n",
       " 'data_batch_4',\n",
       " 'data_batch_5',\n",
       " 'readme.html',\n",
       " 'test_batch']"
      ]
     },
     "execution_count": 5,
     "metadata": {},
     "output_type": "execute_result"
    }
   ],
   "source": [
    "import tarfile\n",
    "datapath = \"cifar-10-batches-py/\" \n",
    "if not os.path.isdir(datapath):\n",
    "    print(\"Extracting files...\")\n",
    "    tar = tarfile.open(filename)\n",
    "    tar.extractall()\n",
    "    print(\"Files extracted.\")\n",
    "    tar.close()\n",
    "os.listdir(datapath)"
   ]
  },
  {
   "cell_type": "markdown",
   "metadata": {},
   "source": [
    "The dataset is broken into batches to prevent your machine from running **out of memory**. The CIFAR-10 dataset consists of 5 batches, named `data_batch_1`, `data_batch_2`, etc.."
   ]
  },
  {
   "cell_type": "code",
   "execution_count": 6,
   "metadata": {},
   "outputs": [
    {
     "name": "stdout",
     "output_type": "stream",
     "text": [
      "feature size: (10000, 32, 32, 3)\n",
      "label size: 10000\n"
     ]
    }
   ],
   "source": [
    "# load one batch\n",
    "import pickle\n",
    "with open(datapath + \"data_batch_1\", \"rb\") as f:\n",
    "    batch = pickle.load(f, encoding=\"latin1\")\n",
    "    features = batch['data'].reshape([len(batch['data']), 3, 32, 32]).transpose(0, 2, 3, 1)\n",
    "    labels = batch['labels']\n",
    "print(\"feature size:\", features.shape)\n",
    "print(\"label size:\", len(labels))"
   ]
  },
  {
   "cell_type": "markdown",
   "metadata": {},
   "source": [
    "The label data is just a list of 10000 numbers in the range 0-9, which corresponds to each of the 10 classes in CIFAR-10. \n",
    "\n",
    "* **airplane**\n",
    "* **automobile**\n",
    "* **bird**\n",
    "* **cat**\n",
    "* **deer**\n",
    "* **dog**\n",
    "* **frog**\n",
    "* **horse**\n",
    "* **ship**\n",
    "* **truck**"
   ]
  },
  {
   "cell_type": "code",
   "execution_count": 8,
   "metadata": {},
   "outputs": [
    {
     "data": {
      "text/plain": [
       "Text(0.5, 0, 'truck')"
      ]
     },
     "execution_count": 8,
     "metadata": {},
     "output_type": "execute_result"
    },
    {
     "data": {
      "image/png": "[encoded data removed]",
      "text/plain": [
       "<Figure size 432x288 with 1 Axes>"
      ]
     },
     "metadata": {
      "needs_background": "light"
     },
     "output_type": "display_data"
    }
   ],
   "source": [
    "# Show a sample image\n",
    "sample_id = 4321\n",
    "plt.imshow(features[sample_id])\n",
    "label_names = ['airplane', 'automobile', 'bird',\n",
    "            'cat', 'deer', 'dog', 'frog',\n",
    "            'horse', 'ship', 'truck']\n",
    "plt.xlabel(label_names[labels[sample_id]])"
   ]
  },
  {
   "cell_type": "code",
   "execution_count": 9,
   "metadata": {},
   "outputs": [
    {
     "name": "stdout",
     "output_type": "stream",
     "text": [
      "features shape: (10000, 32, 32, 3)\n",
      "labels shape: 10000\n",
      "features shape: (10000, 32, 32, 3)\n",
      "labels shape: 10000\n",
      "features shape: (10000, 32, 32, 3)\n",
      "labels shape: 10000\n",
      "features shape: (10000, 32, 32, 3)\n",
      "labels shape: 10000\n",
      "features shape: (10000, 32, 32, 3)\n",
      "labels shape: 10000\n",
      "train_features shape: (50000, 32, 32, 3)\n",
      "train_labels shape: (50000,)\n"
     ]
    }
   ],
   "source": [
    "# Load all images from batch 1-5\n",
    "train_features = np.empty([0, 32, 32, 3], dtype=np.uint8)\n",
    "train_labels = np.empty([0])\n",
    "for k in range(1, 6):\n",
    "    with open(datapath + \"data_batch_\" + str(k), \"rb\") as f:\n",
    "        batch = pickle.load(f, encoding=\"latin1\")\n",
    "        features = batch[\"data\"].reshape([len(batch['data']), 3, 32, 32]).transpose(0, 2, 3, 1)\n",
    "        labels=batch['labels']\n",
    "        print(\"features shape:\", features.shape)\n",
    "        print(\"labels shape:\", len(labels))\n",
    "        train_features = np.append(train_features, features, axis=0)\n",
    "        train_labels = np.append(train_labels, labels, axis=0)\n",
    "print(\"train_features shape:\", train_features.shape)\n",
    "print(\"train_labels shape:\", train_labels.shape)\n",
    "        "
   ]
  },
  {
   "cell_type": "markdown",
   "metadata": {},
   "source": [
    "## Build CNN model\n",
    "### Create Convolutional Model\n",
    "\n",
    "The entire model consists of 14 layers in total. In addition to layers below lists what techniques are applied to build the model.\n",
    "\n",
    "1. Convolution with 32 different filters in size of (3x3)\n",
    "    - ReLU activation function \n",
    "2. Convolution with 32 different filters in size of (3x3)\n",
    "    - ReLU activation function \n",
    "    - Max Pooling by 2\n",
    "    - Dropout \n",
    "3. Convolution with 64 different filters in size of (3x3)\n",
    "    - ReLU activation function \n",
    "4. Convolution with 64 different filters in size of (3x3)\n",
    "    - ReLU activation function \n",
    "    - Max Pooling by 2\n",
    "    - Dropout \n",
    "5. Flattening the 3-D output of the last convolutional operations.\n",
    "6. Fully Connected Layer with 512 units\n",
    "  - Dropout \n",
    "7. Fully Connected Layer with 10 units (number of image classes)\n",
    "\n",
    "the image below decribes how the conceptual convolving operation differs from the tensorflow implementation when you use [Channel x Width x Height] tensor format. \n",
    "\n",
    "<img src=\"https://adeshpande3.github.io/assets/Cover.png\" alt=\"Drawing\" style=\"width: 1000px;\"/>"
   ]
  },
  {
   "cell_type": "code",
   "execution_count": 11,
   "metadata": {},
   "outputs": [],
   "source": [
    "batch_size = 32 # How many images to load at a time\n",
    "num_classes = 10 \n",
    "epochs = 10\n",
    "num_predictions = 20"
   ]
  },
  {
   "cell_type": "code",
   "execution_count": 12,
   "metadata": {},
   "outputs": [],
   "source": [
    "# Build CNN model\n",
    "model = tf.keras.models.Sequential()\n",
    "model.add(tf.keras.layers.Conv2D(32, (3, 3), padding=\"same\",\n",
    "                              input_shape=features[0].shape, # (32, 32, 3)\n",
    "                              activation=tf.nn.relu))\n",
    "model.add(tf.keras.layers.Conv2D(32, (3, 3), padding=\"same\",\n",
    "                              activation=tf.nn.relu))\n",
    "model.add(tf.keras.layers.MaxPool2D(pool_size=(2, 2)))\n",
    "model.add(tf.keras.layers.Dropout(0.25))\n",
    "\n",
    "model.add(tf.keras.layers.Conv2D(64, (3, 3), padding=\"same\",\n",
    "                              activation=tf.nn.relu))\n",
    "model.add(tf.keras.layers.Conv2D(64, (3, 3), padding=\"same\",\n",
    "                              activation=tf.nn.relu))\n",
    "model.add(tf.keras.layers.MaxPool2D(pool_size=(2, 2)))\n",
    "model.add(tf.keras.layers.Dropout(0.25))\n",
    "\n",
    "model.add(tf.keras.layers.Flatten())\n",
    "model.add(tf.keras.layers.Dense(512, activation=tf.nn.relu))\n",
    "model.add(tf.keras.layers.Dropout(0.5))\n",
    "# model.add(tf.keras.layers.Dense(num_classes, activation=tf.nn.softmax))\n",
    "model.add(tf.keras.layers.Dense(num_classes))"
   ]
  },
  {
   "cell_type": "code",
   "execution_count": 13,
   "metadata": {},
   "outputs": [],
   "source": [
    "model.compile(optimizer=\"adam\",\n",
    "              loss=tf.keras.losses.SparseCategoricalCrossentropy(from_logits=True),\n",
    "              metrics=[\"accuracy\"])"
   ]
  },
  {
   "cell_type": "code",
   "execution_count": 14,
   "metadata": {},
   "outputs": [],
   "source": [
    "# Normalize data\n",
    "def normalize(x):\n",
    "    \"\"\"\n",
    "        argument\n",
    "            - x: input image data in numpy array [32, 32, 3]\n",
    "        return\n",
    "            - normalized x \n",
    "    \"\"\"\n",
    "    min_val = np.min(x)\n",
    "    max_val = np.max(x)\n",
    "    x = (x-min_val) / (max_val-min_val)\n",
    "    return x"
   ]
  },
  {
   "cell_type": "code",
   "execution_count": 15,
   "metadata": {},
   "outputs": [],
   "source": [
    "train_features_scaled = normalize(train_features)"
   ]
  },
  {
   "cell_type": "code",
   "execution_count": 16,
   "metadata": {
    "scrolled": true
   },
   "outputs": [
    {
     "name": "stdout",
     "output_type": "stream",
     "text": [
      "Train on 50000 samples\n",
      "Epoch 1/10\n",
      "50000/50000 [==============================] - 345s 7ms/sample - loss: 1.4966 - accuracy: 0.4531\n",
      "Epoch 2/10\n",
      "50000/50000 [==============================] - 320s 6ms/sample - loss: 1.0713 - accuracy: 0.6197\n",
      "Epoch 3/10\n",
      "50000/50000 [==============================] - 328s 7ms/sample - loss: 0.9204 - accuracy: 0.6740\n",
      "Epoch 4/10\n",
      "50000/50000 [==============================] - 316s 6ms/sample - loss: 0.8324 - accuracy: 0.7078\n",
      "Epoch 5/10\n",
      "50000/50000 [==============================] - 309s 6ms/sample - loss: 0.7677 - accuracy: 0.7284\n",
      "Epoch 6/10\n",
      "50000/50000 [==============================] - 321s 6ms/sample - loss: 0.7201 - accuracy: 0.7464\n",
      "Epoch 7/10\n",
      "50000/50000 [==============================] - 331s 7ms/sample - loss: 0.6749 - accuracy: 0.7629\n",
      "Epoch 8/10\n",
      "50000/50000 [==============================] - 318s 6ms/sample - loss: 0.6440 - accuracy: 0.7730\n",
      "Epoch 9/10\n",
      "50000/50000 [==============================] - 309s 6ms/sample - loss: 0.6128 - accuracy: 0.7846\n",
      "Epoch 10/10\n",
      "50000/50000 [==============================] - 317s 6ms/sample - loss: 0.5837 - accuracy: 0.7936\n"
     ]
    }
   ],
   "source": [
    "history =  model.fit(train_features_scaled, train_labels, epochs=10, batch_size=batch_size)"
   ]
  },
  {
   "cell_type": "code",
   "execution_count": 18,
   "metadata": {},
   "outputs": [
    {
     "data": {
      "text/plain": [
       "<matplotlib.legend.Legend at 0x253b0d43488>"
      ]
     },
     "execution_count": 18,
     "metadata": {},
     "output_type": "execute_result"
    },
    {
     "data": {
      "image/png": "[encoded data removed]",
      "text/plain": [
       "<Figure size 432x288 with 1 Axes>"
      ]
     },
     "metadata": {
      "needs_background": "light"
     },
     "output_type": "display_data"
    }
   ],
   "source": [
    "# Evaluate the model\n",
    "plt.plot(history.history['accuracy'], label='accuracy')\n",
    "# plt.plot(history.history['val_accuracy'], label = 'val_accuracy') # allocate validation data to get val_accuracy\n",
    "plt.xlabel('Epoch')\n",
    "plt.ylabel('Accuracy')\n",
    "plt.ylim([0.5, 1])\n",
    "plt.legend(loc='lower right')"
   ]
  },
  {
   "cell_type": "code",
   "execution_count": 20,
   "metadata": {},
   "outputs": [],
   "source": [
    "# Load test images\n",
    "with open(datapath + \"test_batch\", \"rb\") as f:\n",
    "    batch = pickle.load(f, encoding=\"latin1\")\n",
    "    test_features = batch['data'].reshape([len(batch['data']), 3, 32, 32]).transpose(0, 2, 3, 1)\n",
    "    test_labels = batch['labels']"
   ]
  },
  {
   "cell_type": "code",
   "execution_count": 21,
   "metadata": {},
   "outputs": [],
   "source": [
    "# Normalize test features\n",
    "test_features_scaled = normalize(test_features)"
   ]
  },
  {
   "cell_type": "code",
   "execution_count": 31,
   "metadata": {},
   "outputs": [
    {
     "data": {
      "text/plain": [
       "(10000,)"
      ]
     },
     "execution_count": 31,
     "metadata": {},
     "output_type": "execute_result"
    }
   ],
   "source": [
    "test_labels = np.array(test_labels)\n",
    "test_labels.shape"
   ]
  },
  {
   "cell_type": "code",
   "execution_count": 32,
   "metadata": {},
   "outputs": [
    {
     "name": "stdout",
     "output_type": "stream",
     "text": [
      "10000/10000 - 13s - loss: 0.6751 - accuracy: 0.7750\n",
      "0.775\n"
     ]
    }
   ],
   "source": [
    "test_loss, test_acc = model.evaluate(test_features_scaled,  test_labels, verbose=2)\n",
    "print(test_acc)"
   ]
  },
  {
   "cell_type": "code",
   "execution_count": null,
   "metadata": {},
   "outputs": [],
   "source": []
  }
 ],
 "metadata": {
  "kernelspec": {
   "display_name": "Python 3",
   "language": "python",
   "name": "python3"
  },
  "language_info": {
   "codemirror_mode": {
    "name": "ipython",
    "version": 3
   },
   "file_extension": ".py",
   "mimetype": "text/x-python",
   "name": "python",
   "nbconvert_exporter": "python",
   "pygments_lexer": "ipython3",
   "version": "3.7.4"
  }
 },
 "nbformat": 4,
 "nbformat_minor": 2
}
