{
 "cells": [
  {
   "cell_type": "markdown",
   "metadata": {},
   "source": [
    "# Week 11\n",
    "# Movie Reviews Classification\n",
    "This notebook classifies movie reviews as positive or negative using the text of the review.\n",
    "\n",
    "We'll use the [IMDB dataset](https://www.tensorflow.org/api_docs/python/tf/keras/datasets/imdb) that contains the text of 50,000 movie reviews from the Internet Movie Database. These reviews are split into 25,000 reviews for training and 25,000 reviews for testing. The training and testing sets are balanced, meaning they contain an equal number of positive and negative reviews."
   ]
  },
  {
   "cell_type": "code",
   "execution_count": 1,
   "metadata": {},
   "outputs": [
    {
     "name": "stdout",
     "output_type": "stream",
     "text": [
      "Requirement already up-to-date: tensorflow-hub in c:\\users\\ch002\\anaconda3\\envs\\tensorflow\\lib\\site-packages (0.8.0)\n",
      "Requirement already satisfied, skipping upgrade: numpy>=1.12.0 in c:\\users\\ch002\\anaconda3\\envs\\tensorflow\\lib\\site-packages (from tensorflow-hub) (1.16.5)\n",
      "Requirement already satisfied, skipping upgrade: protobuf>=3.8.0 in c:\\users\\ch002\\anaconda3\\envs\\tensorflow\\lib\\site-packages (from tensorflow-hub) (3.11.3)\n",
      "Requirement already satisfied, skipping upgrade: six>=1.12.0 in c:\\users\\ch002\\anaconda3\\envs\\tensorflow\\lib\\site-packages (from tensorflow-hub) (1.12.0)\n",
      "Requirement already satisfied, skipping upgrade: setuptools in c:\\users\\ch002\\anaconda3\\envs\\tensorflow\\lib\\site-packages (from protobuf>=3.8.0->tensorflow-hub) (41.4.0)\n"
     ]
    }
   ],
   "source": [
    "# Install TensorFlow Hub, which contains reusable machine learning models\n",
    "!pip install --upgrade tensorflow-hub"
   ]
  },
  {
   "cell_type": "code",
   "execution_count": 2,
   "metadata": {},
   "outputs": [
    {
     "name": "stdout",
     "output_type": "stream",
     "text": [
      "Requirement already satisfied: tensorflow-datasets in c:\\users\\ch002\\anaconda3\\envs\\tensorflow\\lib\\site-packages (3.0.0)\n",
      "Requirement already satisfied: absl-py in c:\\users\\ch002\\anaconda3\\envs\\tensorflow\\lib\\site-packages (from tensorflow-datasets) (0.9.0)\n",
      "Requirement already satisfied: six in c:\\users\\ch002\\anaconda3\\envs\\tensorflow\\lib\\site-packages (from tensorflow-datasets) (1.12.0)\n",
      "Requirement already satisfied: tensorflow-metadata in c:\\users\\ch002\\anaconda3\\envs\\tensorflow\\lib\\site-packages (from tensorflow-datasets) (0.21.2)\n",
      "Requirement already satisfied: protobuf>=3.6.1 in c:\\users\\ch002\\anaconda3\\envs\\tensorflow\\lib\\site-packages (from tensorflow-datasets) (3.11.3)\n",
      "Requirement already satisfied: requests>=2.19.0 in c:\\users\\ch002\\anaconda3\\envs\\tensorflow\\lib\\site-packages (from tensorflow-datasets) (2.22.0)\n",
      "Requirement already satisfied: termcolor in c:\\users\\ch002\\anaconda3\\envs\\tensorflow\\lib\\site-packages (from tensorflow-datasets) (1.1.0)\n",
      "Requirement already satisfied: attrs>=18.1.0 in c:\\users\\ch002\\anaconda3\\envs\\tensorflow\\lib\\site-packages (from tensorflow-datasets) (19.2.0)\n",
      "Requirement already satisfied: promise in c:\\users\\ch002\\anaconda3\\envs\\tensorflow\\lib\\site-packages (from tensorflow-datasets) (2.3)\n",
      "Requirement already satisfied: dill in c:\\users\\ch002\\anaconda3\\envs\\tensorflow\\lib\\site-packages (from tensorflow-datasets) (0.3.1.1)\n",
      "Requirement already satisfied: wrapt in c:\\users\\ch002\\anaconda3\\envs\\tensorflow\\lib\\site-packages (from tensorflow-datasets) (1.11.2)\n",
      "Requirement already satisfied: future in c:\\users\\ch002\\anaconda3\\envs\\tensorflow\\lib\\site-packages (from tensorflow-datasets) (0.17.1)\n",
      "Requirement already satisfied: tqdm in c:\\users\\ch002\\anaconda3\\envs\\tensorflow\\lib\\site-packages (from tensorflow-datasets) (4.36.1)\n",
      "Requirement already satisfied: numpy in c:\\users\\ch002\\anaconda3\\envs\\tensorflow\\lib\\site-packages (from tensorflow-datasets) (1.16.5)\n",
      "Requirement already satisfied: googleapis-common-protos in c:\\users\\ch002\\anaconda3\\envs\\tensorflow\\lib\\site-packages (from tensorflow-metadata->tensorflow-datasets) (1.51.0)\n",
      "Requirement already satisfied: setuptools in c:\\users\\ch002\\anaconda3\\envs\\tensorflow\\lib\\site-packages (from protobuf>=3.6.1->tensorflow-datasets) (41.4.0)\n",
      "Requirement already satisfied: certifi>=2017.4.17 in c:\\users\\ch002\\anaconda3\\envs\\tensorflow\\lib\\site-packages (from requests>=2.19.0->tensorflow-datasets) (2019.9.11)\n",
      "Requirement already satisfied: urllib3!=1.25.0,!=1.25.1,<1.26,>=1.21.1 in c:\\users\\ch002\\anaconda3\\envs\\tensorflow\\lib\\site-packages (from requests>=2.19.0->tensorflow-datasets) (1.24.2)\n",
      "Requirement already satisfied: chardet<3.1.0,>=3.0.2 in c:\\users\\ch002\\anaconda3\\envs\\tensorflow\\lib\\site-packages (from requests>=2.19.0->tensorflow-datasets) (3.0.4)\n",
      "Requirement already satisfied: idna<2.9,>=2.5 in c:\\users\\ch002\\anaconda3\\envs\\tensorflow\\lib\\site-packages (from requests>=2.19.0->tensorflow-datasets) (2.8)\n"
     ]
    }
   ],
   "source": [
    "# Install TensorFlow Datasets\n",
    "!pip install tensorflow-datasets"
   ]
  },
  {
   "cell_type": "code",
   "execution_count": 3,
   "metadata": {
    "scrolled": true
   },
   "outputs": [
    {
     "name": "stdout",
     "output_type": "stream",
     "text": [
      "Version:  2.1.0\n",
      "Eager mode:  True\n",
      "Hub version:  0.8.0\n",
      "GPU is NOT AVAILABLE\n"
     ]
    }
   ],
   "source": [
    "import numpy as np\n",
    "\n",
    "import tensorflow as tf\n",
    "import tensorflow_hub as hub\n",
    "import tensorflow_datasets as tfds\n",
    "\n",
    "print(\"Version: \", tf.__version__)\n",
    "print(\"Eager mode: \", tf.executing_eagerly())\n",
    "print(\"Hub version: \", hub.__version__)\n",
    "print(\"GPU is\", \"available\" if tf.config.experimental.list_physical_devices(\"GPU\") else \"NOT AVAILABLE\")"
   ]
  },
  {
   "cell_type": "markdown",
   "metadata": {},
   "source": [
    "## Download the dataset"
   ]
  },
  {
   "cell_type": "code",
   "execution_count": 4,
   "metadata": {},
   "outputs": [],
   "source": [
    "# Split the training set into 60% and 40%, so we'll end up with 15,000 examples\n",
    "# for training, 10,000 examples for validation and 25,000 examples for testing.\n",
    "train_data, validation_data, test_data = tfds.load(\n",
    "    name=\"imdb_reviews\", \n",
    "    split=('train[:60%]', 'train[60%:]', 'test'),\n",
    "    as_supervised=True)"
   ]
  },
  {
   "cell_type": "markdown",
   "metadata": {},
   "source": [
    "## Explore the Data"
   ]
  },
  {
   "cell_type": "code",
   "execution_count": 5,
   "metadata": {},
   "outputs": [],
   "source": [
    "?train_data"
   ]
  },
  {
   "cell_type": "code",
   "execution_count": 6,
   "metadata": {},
   "outputs": [
    {
     "data": {
      "text/plain": [
       "<tf.Tensor: shape=(10,), dtype=string, numpy=\n",
       "array([b'This is a big step down after the surprisingly enjoyable original. This sequel isn\\'t nearly as fun as part one, and it instead spends too much time on plot development. Tim Thomerson is still the best thing about this series, but his wisecracking is toned down in this entry. The performances are all adequate, but this time the script lets us down. The action is merely routine and the plot is only mildly interesting, so I need lots of silly laughs in order to stay entertained during a \"Trancers\" movie. Unfortunately, the laughs are few and far between, and so, this film is watchable at best.',\n",
       "       b\"Perhaps because I was so young, innocent and BRAINWASHED when I saw it, this movie was the cause of many sleepless nights for me. I haven't seen it since I was in seventh grade at a Presbyterian school, so I am not sure what effect it would have on me now. However, I will say that it left an impression on me... and most of my friends. It did serve its purpose, at least until we were old enough and knowledgeable enough to analyze and create our own opinions. I was particularly terrified of what the newly-converted post-rapture Christians had to endure when not receiving the mark of the beast. I don't want to spoil the movie for those who haven't seen it so I will not mention details of the scenes, but I can still picture them in my head... and it's been 19 years.\",\n",
       "       b'Hood of the Living Dead had a lot to live up to even before the opening credits began. First, any play on \"...of the living dead\" invokes His Holiness Mr. Romero and instantly sets up a high standard to which many movies cannot afford to aspire. And second, my movie-watching companion professed doubt that any urban horror film would surpass the seminal Leprechaun In the Hood. Skeptical, we settled in to watch. <br /><br />We were rewarded with a surprisingly sincere and good-hearted zombie film. Oh, certainly the budget is low, and of course the directors\\' amateurs friends populate the cast, but Hood of the Living Dead loves zombie cinema. Cheap? Yeah. But when it\\'s this cheap, you can clearly see where LOVE holds it together. <br /><br />Ricky works in a lab during the day and as a surrogate parent to his younger brother at night. He dreams of moving out of Oakland. Before this planned escape, however, his brother is shot to death in a drive-by. Ricky\\'s keen scientific mind presents an option superior to CPR or 911: injections of his lab\\'s experimental regenerative formula. Sadly, little bro wakes up in an ambulance as a bloodthirsty Oakland zombie! Chaos and mayhem! I think it\\'s more economical to eat your enemies than take vengeance in a drive-by, but then again, I\\'m a poor judge of the complexities of urban life. (How poor a judge? In response to a gory scene involving four men, I opined \"Ah-ha! White t-shirts on everyone so the blood shows up. Economical! I used the same technique in my own low-budget horror film.\" Jordan replied, \"No, that\\'s gang dress. White t-shirts were banned from New Orleans bars for a time as a result.\" Oh.)<br /><br />A lot of the movie is set in someone\\'s living room, so there\\'s a great deal of hanging out and waiting for the zombies. But the characters are sympathetic and the movie is sincere-- it surpasses its budget in spirit. <br /><br />Zombie explanation: When man plays God, zombies arise! Or, perhaps: Follow FDA-approved testing rules before human experimentation! <br /><br />Contribution to the zombie canon: This is the first zombie movie I\\'ve seen with a drive-by shooting. As far as the actual zombies go, infection is spread with a bite as usual, but quite unusually head shots don\\'t work-- it\\'s heart shots that kill. Zombies have pulses, the absence of which proves true death. And these zombies make pretty cool jaguar-growl noises. <br /><br />Gratuitous zombie movie in-joke: A mercenary named Romero. Groan. <br /><br />Favorite zombie: Jaguar-noise little brother zombie, of course!',\n",
       "       b\"For me this is a story that starts with some funny jokes regarding Franks fanatasies when he is travelling with a staircase and when he is sitting in business meetings... The problem is that when you have been watching this movie for an hour you will see the same fantasies/funny situations again and again and again. It is to predictable. It is more done as a TV story where you can go away and come back without missing anything.<br /><br />I like Felix Herngren as Frank but that is not enough even when it is a comedy it has to have more variations and some kind of message to it's audience....<br /><br />\",\n",
       "       b'This is not a bad movie. It follows the new conventions of modern horror, that is the movie within a movie, the well known actress running for her life in the first scene. This movie takes the old convention of a psycho killer on he loose, and manage to do something new, and interesting with it. It is also always nice to see Molly Ringwald back for the attack.<br /><br />So this might be an example of what the genre has become. Cut hits all the marks, and is actually scary in some parts. I liked it I gave it an eight.',\n",
       "       b\"I just finished a marathon of this series, and it became agonising to watch as it progressed. From the fictionalising of the historical elements, to O'Herlihy's awful accent in later episodes, the show just slumps the further it goes. If you are looking for some low quality production generalised WW2 fluff, then I could recommend season 1, but avoid anything after that, it degenerates into being one step from a soap opera, with increasingly worse story lines and sensibility.<br /><br />The old B&W film is by far the best of any form of entertainment with the Colditz name attached to it, and even that is not what one could hope for.\",\n",
       "       b'I am very sorry that this charming and whimsical film (which I first saw soon after it was first released in the early fifties) has had such a poor reception more recently. In my opinion it has been greatly underrated - but perhaps it appeals more to the European sense of humour than to (for example) the American: maybe we in Europe can understand and appreciate its subtleties and situations more, since we are closer to some of them in real life! Particular mention should be made of the limited but good music - especially the catchy and memorable song \"It\\'s a fine, fine night\", which was issued separately on an HMV 78rpm record (10 inch plum label, I think!) in the fifties. I would urge anyone interested to give it a try if you get the chance: you may have a pleasant surprise.',\n",
       "       b\"Well i am going to go against the grain on this film so it seems. Being a self confessed horror fan I sat down to this not quite knowing what to expect. After 2 or 3 mins i actually found myself scared (quite rare). The film obviously has a small budget and is set around charing cross station but the films lack of money does not distract from the story. Yes the story is a bit far fetched and doesn't explain itself very well but THE CREEP is a class act and proceeds to slash and dismember anything that comes its way. MESSAGE FOR LADIES !!! THERE ARE CERTAIN PARTS OF THE FILM YOU SHOULD CLOSE YOUR EYES AT OR AT LEAST CROSS YOUR LEGS !! you will understand when you see it.<br /><br />All in all a good film and it makes a change to see a good slasher movie that actually scares\",\n",
       "       b'Even 15 years after the end of the Vietnam war \"Jacknife\" came not too late or was even superfluous. It\\'s one of the few that try to deal with the second sad side of the war: The time after. Different from movies like \"Taxi driver\" or \"Rambo\" which use to present their main characters as broken heroes in a bad after war environment this movie allows the audience to face a different view on the Vietnam vets. Their development is shown very precisely before and especially after the war. The problems are obvious but in all this tragic there is always the feeling of some hope on the basis of love and friendship. \"Jacknife\" might be the quietest Vietnam movie ever but after almost 15 years this is really plausible and therefor justified. Moreover, it can make us believe that the war has not finished, yet; at least for some of us.<br /><br />The three main characters are amazing. De Niro has done one of his best jobs but Ed Harris is the star of this movie. Possibly,this was his best performance ever.',\n",
       "       b'Before I explain the \"Alias\" comment let me say that \"The Desert Trail\" is bad even by the standards of westerns staring The Three Stooges. In fact it features Carmen Laroux as semi- bad girl Juanita, when you hear her Mexican accent you will immediately recognize her as Senorita Rita from the classic Stooge short \"Saved by the Belle\". <br /><br />In \"The Desert Trail\" John Wayne gets to play the Moe Howard character and Eddy Chandler gets to play Curly Howard. Like their Stooge counterparts a running gag throughout the 53- minute movie is Moe hitting Curly. Wayne\\'s character, a skirt chasing bully, is not very endearing, but is supposed to be the good guy. <br /><br />Playing a traveling rodeo cowboy Wayne holds up the rodeo box office at gunpoint and takes the prize money he would have won if the attendance proceeds had been good-the other riders have to settle for 25 cents on the dollar (actually even less after Wayne robs the box office). No explanation is given for Wayne\\'s ripping off the riders and still being considered the hero who gets the girl. <br /><br />Things get complicated at this point because the villain (Al Ferguson) and his sidekick Larry Fine (played by Paul Fix-who would go on to play Sheriff Micah on television\\'s \"The Rifleman\") see Wayne rob the box office and then steal the remainder of the money and kill the rodeo manager. Moe and Curly get blamed. <br /><br />So Moe and Curly move to another town to get away from the law and they change their names to Smith and Jones. Who do they meet first but their old friend Larry, whose sister becomes the 2nd half love interest (Senorita Rita is left behind it the old town and makes no further appearances in the movie). <br /><br />Larry\\'s sister is nicely played by a radiantly beautiful Mary Kornman (now grown up but in her younger days she was one of the original cast members of Hal Roach\\'s \"Our Gang\" shorts). Kornman is the main reason to watch the mega-lame western and her scenes with Moe and Curly are much better than any others in the production, as if they used an entirely different crew to film them. <br /><br />Even for 1935 the action sequences in this thing are extremely weak and the technical film- making is staggeringly bad. The two main chase scenes end with stock footage wide shots of a rider falling from a horse. Both times the editor cuts to a shot of one of the characters rolling on the ground, but there is no horse in the frame, the film stock is completely different, and the character has on different clothes than the stunt rider. There is liberal use of stock footage in other places, none of it even remotely convincing. <br /><br />One thing to watch for is a scene midway into the movie where Moe and Curly get on their horses and ride away (to screen right) from a cabin as the posse is galloping toward the cabin from the left. The cameraman follows the two stooges with a slow pan right and then does a whip pan to the left to reveal the approaching posse. Outside of home movies I have never seen anything like this, not because it is looks stupid (which it does) but because a competent director would never stage a scene in this manner. They would film the two riders leaving and then reposition the camera and film the posse approaching as a separate action. Or if they were feeling creative they would stage the sequence so the camera shows the riders in the foreground and the posse approaching in the background. <br /><br />Then again, what do I know? I\\'m only a child.'],\n",
       "      dtype=object)>"
      ]
     },
     "execution_count": 6,
     "metadata": {},
     "output_type": "execute_result"
    }
   ],
   "source": [
    "# Extract the first batch of 10 reviews\n",
    "train_examples_batch, train_labels_batch = next(iter(train_data.batch(10))) # The next() function returns the next item of an iterator\n",
    "train_examples_batch"
   ]
  },
  {
   "cell_type": "code",
   "execution_count": 7,
   "metadata": {},
   "outputs": [
    {
     "data": {
      "text/plain": [
       "<tf.Tensor: shape=(10,), dtype=int64, numpy=array([0, 0, 1, 0, 1, 0, 1, 1, 1, 0], dtype=int64)>"
      ]
     },
     "execution_count": 7,
     "metadata": {},
     "output_type": "execute_result"
    }
   ],
   "source": [
    "# Display the labels of the first 10 reviews\n",
    "train_labels_batch"
   ]
  },
  {
   "cell_type": "markdown",
   "metadata": {},
   "source": [
    "## Building the Model\n",
    "- Represent words as vectors using pre-trained encoder\n",
    "- Decide the number of hidden layers\n",
    "- Decide the number of hidden units for each layer\n",
    "\n",
    "For this example we will use a pre-trained text embedding model from TensorFlow Hub called `gnews-swivel-20dim`, which represents each word with a vector of length 20."
   ]
  },
  {
   "cell_type": "code",
   "execution_count": 8,
   "metadata": {},
   "outputs": [
    {
     "data": {
      "text/plain": [
       "<tf.Tensor: shape=(3, 20), dtype=float32, numpy=\n",
       "array([[ 2.209591  , -2.7093675 ,  3.6802928 , -1.0291991 , -4.1671185 ,\n",
       "        -2.4566064 , -2.2519937 , -0.36589956,  1.9485804 , -3.1104462 ,\n",
       "        -2.4610963 ,  1.3139242 , -0.9161584 , -0.16625322, -3.723651  ,\n",
       "         1.8498232 ,  3.499562  , -1.2373022 , -2.8403084 , -1.213074  ],\n",
       "       [ 1.9055302 , -4.11395   ,  3.6038654 ,  0.28555924, -4.658998  ,\n",
       "        -5.5433393 , -3.2735848 ,  1.9235417 ,  3.8461034 ,  1.5882455 ,\n",
       "        -2.64167   ,  0.76057523, -0.14820506,  0.9115291 , -6.45758   ,\n",
       "         2.3990374 ,  5.0985413 , -3.2776263 , -3.2652326 , -1.2345369 ],\n",
       "       [ 3.6510668 , -4.7066135 ,  4.71003   , -1.7002777 , -3.7708545 ,\n",
       "        -3.709126  , -4.222776  ,  1.946586  ,  6.1182513 , -2.7392752 ,\n",
       "        -5.4384456 ,  2.7078724 , -2.1263676 , -0.7084146 , -5.893995  ,\n",
       "         3.1602864 ,  3.8389287 , -3.318196  , -5.1542974 , -2.4051712 ]],\n",
       "      dtype=float32)>"
      ]
     },
     "execution_count": 8,
     "metadata": {},
     "output_type": "execute_result"
    }
   ],
   "source": [
    "embedding = \"https://tfhub.dev/google/tf2-preview/gnews-swivel-20dim/1\"\n",
    "hub_layer = hub.KerasLayer(embedding, input_shape=[], \n",
    "                           dtype=tf.string, trainable=True)\n",
    "hub_layer(train_examples_batch[:3])"
   ]
  },
  {
   "cell_type": "code",
   "execution_count": 9,
   "metadata": {},
   "outputs": [
    {
     "name": "stdout",
     "output_type": "stream",
     "text": [
      "Model: \"sequential\"\n",
      "_________________________________________________________________\n",
      "Layer (type)                 Output Shape              Param #   \n",
      "=================================================================\n",
      "keras_layer (KerasLayer)     (None, 20)                400020    \n",
      "_________________________________________________________________\n",
      "dense (Dense)                (None, 16)                336       \n",
      "_________________________________________________________________\n",
      "dense_1 (Dense)              (None, 1)                 17        \n",
      "=================================================================\n",
      "Total params: 400,373\n",
      "Trainable params: 400,373\n",
      "Non-trainable params: 0\n",
      "_________________________________________________________________\n"
     ]
    }
   ],
   "source": [
    "model = tf.keras.Sequential()\n",
    "model.add(hub_layer)\n",
    "model.add(tf.keras.layers.Dense(16, activation='relu'))\n",
    "model.add(tf.keras.layers.Dense(1))\n",
    "\n",
    "model.summary()"
   ]
  },
  {
   "cell_type": "code",
   "execution_count": 11,
   "metadata": {},
   "outputs": [],
   "source": [
    "model.compile(optimizer='adam',\n",
    "              loss=tf.keras.losses.BinaryCrossentropy(from_logits=True),\n",
    "              metrics=['accuracy'])"
   ]
  },
  {
   "cell_type": "code",
   "execution_count": 12,
   "metadata": {},
   "outputs": [
    {
     "name": "stdout",
     "output_type": "stream",
     "text": [
      "Epoch 1/20\n",
      "30/30 [==============================].7758 - accuracy: 0.48 - 3s 1s/step - loss: 1.6527 - accuracy: 0.49 - 3s 878ms/step - loss: 1.6062 - accuracy: 0.496 - 3s 698ms/step - loss: 1.5389 - accuracy: 0.502 - 3s 595ms/step - loss: 1.4921 - accuracy: 0.497 - 3s 525ms/step - loss: 1.4510 - accuracy: 0.496 - 3s 468ms/step - loss: 1.4067 - accuracy: 0.493 - 3s 428ms/step - loss: 1.3819 - accuracy: 0.485 - 4s 391ms/step - loss: 1.3477 - accuracy: 0.483 - 4s 362ms/step - loss: 1.3164 - accuracy: 0.480 - 4s 338ms/step - loss: 1.2871 - accuracy: 0.475 - 4s 319ms/step - loss: 1.2583 - accuracy: 0.472 - 4s 302ms/step - loss: 1.2305 - accuracy: 0.470 - 4s 289ms/step - loss: 1.2046 - accuracy: 0.467 - 4s 276ms/step - loss: 1.1793 - accuracy: 0.468 - 4s 267ms/step - loss: 1.1567 - accuracy: 0.469 - 4s 258ms/step - loss: 1.1361 - accuracy: 0.468 - 5s 250ms/step - loss: 1.1184 - accuracy: 0.469 - 5s 242ms/step - loss: 1.1006 - accuracy: 0.470 - 5s 236ms/step - loss: 1.0845 - accuracy: 0.472 - 5s 229ms/step - loss: 1.0691 - accuracy: 0.473 - 5s 224ms/step - loss: 1.0562 - accuracy: 0.475 - 5s 219ms/step - loss: 1.0466 - accuracy: 0.473 - 5s 215ms/step - loss: 1.0375 - accuracy: 0.474 - 5s 210ms/step - loss: 1.0271 - accuracy: 0.476 - 5s 207ms/step - loss: 1.0187 - accuracy: 0.476 - 5s 203ms/step - loss: 1.0110 - accuracy: 0.478 - 6s 200ms/step - loss: 1.0029 - accuracy: 0.478 - 6s 197ms/step - loss: 0.9957 - accuracy: 0.479 - 6s 192ms/step - loss: 0.9856 - accuracy: 0.480 - 8s 271ms/step - loss: 0.9859 - accuracy: 0.4809 - val_loss: 0.7742 - val_accuracy: 0.5069\n",
      "Epoch 2/20\n",
      "30/30 [==============================] - ETA: 37s - loss: 0.7527 - accuracy: 0.535 - ETA: 19s - loss: 0.7563 - accuracy: 0.514 - ETA: 13s - loss: 0.7571 - accuracy: 0.512 - ETA: 11s - loss: 0.7553 - accuracy: 0.516 - ETA: 9s - loss: 0.7453 - accuracy: 0.527 - ETA: 8s - loss: 0.7450 - accuracy: 0.52 - ETA: 7s - loss: 0.7447 - accuracy: 0.51 - ETA: 6s - loss: 0.7449 - accuracy: 0.51 - ETA: 5s - loss: 0.7424 - accuracy: 0.51 - ETA: 5s - loss: 0.7399 - accuracy: 0.51 - ETA: 4s - loss: 0.7391 - accuracy: 0.51 - ETA: 4s - loss: 0.7376 - accuracy: 0.51 - ETA: 3s - loss: 0.7362 - accuracy: 0.51 - ETA: 3s - loss: 0.7342 - accuracy: 0.51 - ETA: 3s - loss: 0.7300 - accuracy: 0.51 - ETA: 2s - loss: 0.7274 - accuracy: 0.52 - ETA: 2s - loss: 0.7270 - accuracy: 0.52 - ETA: 2s - loss: 0.7259 - accuracy: 0.52 - ETA: 2s - loss: 0.7240 - accuracy: 0.52 - ETA: 1s - loss: 0.7217 - accuracy: 0.52 - ETA: 1s - loss: 0.7211 - accuracy: 0.52 - ETA: 1s - loss: 0.7190 - accuracy: 0.52 - ETA: 1s - loss: 0.7179 - accuracy: 0.53 - ETA: 1s - loss: 0.7151 - accuracy: 0.53 - ETA: 0s - loss: 0.7130 - accuracy: 0.53 - ETA: 0s - loss: 0.7107 - accuracy: 0.53 - ETA: 0s - loss: 0.7097 - accuracy: 0.53 - ETA: 0s - loss: 0.7091 - accuracy: 0.53 - ETA: 0s - loss: 0.7075 - accuracy: 0.54 - 7s 227ms/step - loss: 0.7050 - accuracy: 0.5412 - val_loss: 0.6625 - val_accuracy: 0.5707\n",
      "Epoch 3/20\n",
      "30/30 [==============================] - ETA: 32s - loss: 0.6574 - accuracy: 0.574 - ETA: 17s - loss: 0.6579 - accuracy: 0.583 - ETA: 12s - loss: 0.6578 - accuracy: 0.585 - ETA: 9s - loss: 0.6575 - accuracy: 0.576 - ETA: 8s - loss: 0.6509 - accuracy: 0.58 - ETA: 7s - loss: 0.6508 - accuracy: 0.57 - ETA: 6s - loss: 0.6517 - accuracy: 0.57 - ETA: 5s - loss: 0.6531 - accuracy: 0.57 - ETA: 5s - loss: 0.6520 - accuracy: 0.57 - ETA: 4s - loss: 0.6488 - accuracy: 0.58 - ETA: 4s - loss: 0.6464 - accuracy: 0.58 - ETA: 3s - loss: 0.6453 - accuracy: 0.58 - ETA: 3s - loss: 0.6463 - accuracy: 0.58 - ETA: 3s - loss: 0.6443 - accuracy: 0.58 - ETA: 2s - loss: 0.6445 - accuracy: 0.58 - ETA: 2s - loss: 0.6424 - accuracy: 0.59 - ETA: 2s - loss: 0.6420 - accuracy: 0.59 - ETA: 2s - loss: 0.6412 - accuracy: 0.59 - ETA: 1s - loss: 0.6406 - accuracy: 0.59 - ETA: 1s - loss: 0.6399 - accuracy: 0.59 - ETA: 1s - loss: 0.6372 - accuracy: 0.59 - ETA: 1s - loss: 0.6369 - accuracy: 0.60 - ETA: 1s - loss: 0.6374 - accuracy: 0.60 - ETA: 0s - loss: 0.6373 - accuracy: 0.60 - ETA: 0s - loss: 0.6362 - accuracy: 0.60 - ETA: 0s - loss: 0.6362 - accuracy: 0.60 - ETA: 0s - loss: 0.6342 - accuracy: 0.60 - ETA: 0s - loss: 0.6321 - accuracy: 0.60 - ETA: 0s - loss: 0.6311 - accuracy: 0.60 - 6s 213ms/step - loss: 0.6298 - accuracy: 0.6071 - val_loss: 0.6122 - val_accuracy: 0.6206\n",
      "Epoch 4/20\n",
      "30/30 [==============================] - ETA: 39s - loss: 0.6005 - accuracy: 0.619 - ETA: 20s - loss: 0.6006 - accuracy: 0.628 - ETA: 14s - loss: 0.6002 - accuracy: 0.637 - ETA: 11s - loss: 0.5981 - accuracy: 0.641 - ETA: 9s - loss: 0.5948 - accuracy: 0.644 - ETA: 8s - loss: 0.5989 - accuracy: 0.63 - ETA: 7s - loss: 0.5985 - accuracy: 0.63 - ETA: 6s - loss: 0.5977 - accuracy: 0.64 - ETA: 5s - loss: 0.5949 - accuracy: 0.64 - ETA: 5s - loss: 0.5934 - accuracy: 0.64 - ETA: 4s - loss: 0.5929 - accuracy: 0.64 - ETA: 4s - loss: 0.5936 - accuracy: 0.64 - ETA: 3s - loss: 0.5932 - accuracy: 0.64 - ETA: 3s - loss: 0.5936 - accuracy: 0.64 - ETA: 2s - loss: 0.5930 - accuracy: 0.64 - ETA: 2s - loss: 0.5933 - accuracy: 0.64 - ETA: 2s - loss: 0.5924 - accuracy: 0.64 - ETA: 2s - loss: 0.5924 - accuracy: 0.64 - ETA: 1s - loss: 0.5917 - accuracy: 0.65 - ETA: 1s - loss: 0.5905 - accuracy: 0.65 - ETA: 1s - loss: 0.5895 - accuracy: 0.65 - ETA: 1s - loss: 0.5895 - accuracy: 0.65 - ETA: 1s - loss: 0.5899 - accuracy: 0.65 - ETA: 0s - loss: 0.5903 - accuracy: 0.65 - ETA: 0s - loss: 0.5911 - accuracy: 0.65 - ETA: 0s - loss: 0.5903 - accuracy: 0.64 - ETA: 0s - loss: 0.5889 - accuracy: 0.65 - ETA: 0s - loss: 0.5888 - accuracy: 0.65 - ETA: 0s - loss: 0.5891 - accuracy: 0.65 - 6s 216ms/step - loss: 0.5874 - accuracy: 0.6519 - val_loss: 0.5796 - val_accuracy: 0.6622\n",
      "Epoch 5/20\n",
      "30/30 [==============================] - ETA: 29s - loss: 0.5734 - accuracy: 0.669 - ETA: 16s - loss: 0.5722 - accuracy: 0.676 - ETA: 12s - loss: 0.5769 - accuracy: 0.673 - ETA: 9s - loss: 0.5779 - accuracy: 0.675 - ETA: 8s - loss: 0.5789 - accuracy: 0.67 - ETA: 7s - loss: 0.5768 - accuracy: 0.67 - ETA: 6s - loss: 0.5735 - accuracy: 0.67 - ETA: 5s - loss: 0.5723 - accuracy: 0.67 - ETA: 5s - loss: 0.5701 - accuracy: 0.67 - ETA: 4s - loss: 0.5665 - accuracy: 0.68 - ETA: 4s - loss: 0.5673 - accuracy: 0.68 - ETA: 3s - loss: 0.5672 - accuracy: 0.67 - ETA: 3s - loss: 0.5682 - accuracy: 0.67 - ETA: 3s - loss: 0.5676 - accuracy: 0.67 - ETA: 2s - loss: 0.5653 - accuracy: 0.68 - ETA: 2s - loss: 0.5644 - accuracy: 0.67 - ETA: 2s - loss: 0.5638 - accuracy: 0.68 - ETA: 2s - loss: 0.5622 - accuracy: 0.68 - ETA: 1s - loss: 0.5599 - accuracy: 0.68 - ETA: 1s - loss: 0.5599 - accuracy: 0.68 - ETA: 1s - loss: 0.5611 - accuracy: 0.68 - ETA: 1s - loss: 0.5605 - accuracy: 0.68 - ETA: 1s - loss: 0.5600 - accuracy: 0.68 - ETA: 0s - loss: 0.5595 - accuracy: 0.68 - ETA: 0s - loss: 0.5589 - accuracy: 0.68 - ETA: 0s - loss: 0.5588 - accuracy: 0.68 - ETA: 0s - loss: 0.5584 - accuracy: 0.68 - ETA: 0s - loss: 0.5574 - accuracy: 0.68 - ETA: 0s - loss: 0.5565 - accuracy: 0.68 - 7s 248ms/step - loss: 0.5570 - accuracy: 0.6853 - val_loss: 0.5542 - val_accuracy: 0.6970\n",
      "Epoch 6/20\n"
     ]
    },
    {
     "name": "stdout",
     "output_type": "stream",
     "text": [
      "30/30 [==============================] - ETA: 54s - loss: 0.5654 - accuracy: 0.685 - ETA: 28s - loss: 0.5605 - accuracy: 0.697 - ETA: 19s - loss: 0.5524 - accuracy: 0.704 - ETA: 15s - loss: 0.5488 - accuracy: 0.710 - ETA: 13s - loss: 0.5504 - accuracy: 0.711 - ETA: 11s - loss: 0.5452 - accuracy: 0.711 - ETA: 9s - loss: 0.5448 - accuracy: 0.710 - ETA: 8s - loss: 0.5423 - accuracy: 0.71 - ETA: 7s - loss: 0.5404 - accuracy: 0.70 - ETA: 6s - loss: 0.5388 - accuracy: 0.71 - ETA: 6s - loss: 0.5373 - accuracy: 0.71 - ETA: 5s - loss: 0.5372 - accuracy: 0.70 - ETA: 5s - loss: 0.5365 - accuracy: 0.70 - ETA: 4s - loss: 0.5384 - accuracy: 0.70 - ETA: 4s - loss: 0.5381 - accuracy: 0.70 - ETA: 3s - loss: 0.5377 - accuracy: 0.70 - ETA: 3s - loss: 0.5358 - accuracy: 0.70 - ETA: 3s - loss: 0.5355 - accuracy: 0.70 - ETA: 2s - loss: 0.5347 - accuracy: 0.70 - ETA: 2s - loss: 0.5333 - accuracy: 0.70 - ETA: 2s - loss: 0.5314 - accuracy: 0.70 - ETA: 1s - loss: 0.5310 - accuracy: 0.70 - ETA: 1s - loss: 0.5292 - accuracy: 0.71 - ETA: 1s - loss: 0.5304 - accuracy: 0.70 - ETA: 1s - loss: 0.5307 - accuracy: 0.71 - ETA: 0s - loss: 0.5291 - accuracy: 0.71 - ETA: 0s - loss: 0.5287 - accuracy: 0.71 - ETA: 0s - loss: 0.5285 - accuracy: 0.71 - ETA: 0s - loss: 0.5280 - accuracy: 0.71 - 10s 324ms/step - loss: 0.5296 - accuracy: 0.7116 - val_loss: 0.5305 - val_accuracy: 0.7223\n",
      "Epoch 7/20\n",
      "30/30 [==============================] - ETA: 39s - loss: 0.5322 - accuracy: 0.712 - ETA: 21s - loss: 0.5190 - accuracy: 0.723 - ETA: 14s - loss: 0.5158 - accuracy: 0.740 - ETA: 11s - loss: 0.5187 - accuracy: 0.735 - ETA: 9s - loss: 0.5144 - accuracy: 0.740 - ETA: 8s - loss: 0.5086 - accuracy: 0.74 - ETA: 7s - loss: 0.5051 - accuracy: 0.74 - ETA: 6s - loss: 0.5102 - accuracy: 0.73 - ETA: 5s - loss: 0.5092 - accuracy: 0.73 - ETA: 5s - loss: 0.5079 - accuracy: 0.73 - ETA: 4s - loss: 0.5080 - accuracy: 0.73 - ETA: 4s - loss: 0.5060 - accuracy: 0.73 - ETA: 3s - loss: 0.5063 - accuracy: 0.73 - ETA: 3s - loss: 0.5039 - accuracy: 0.73 - ETA: 3s - loss: 0.5039 - accuracy: 0.73 - ETA: 2s - loss: 0.5022 - accuracy: 0.73 - ETA: 2s - loss: 0.5029 - accuracy: 0.73 - ETA: 2s - loss: 0.5021 - accuracy: 0.73 - ETA: 2s - loss: 0.5042 - accuracy: 0.73 - ETA: 1s - loss: 0.5042 - accuracy: 0.73 - ETA: 1s - loss: 0.5042 - accuracy: 0.73 - ETA: 1s - loss: 0.5032 - accuracy: 0.73 - ETA: 1s - loss: 0.5024 - accuracy: 0.73 - ETA: 0s - loss: 0.5026 - accuracy: 0.73 - ETA: 0s - loss: 0.5025 - accuracy: 0.73 - ETA: 0s - loss: 0.5017 - accuracy: 0.73 - ETA: 0s - loss: 0.5015 - accuracy: 0.73 - ETA: 0s - loss: 0.5014 - accuracy: 0.73 - ETA: 0s - loss: 0.5010 - accuracy: 0.73 - 8s 276ms/step - loss: 0.4996 - accuracy: 0.7385 - val_loss: 0.5050 - val_accuracy: 0.7254\n",
      "Epoch 8/20\n",
      "30/30 [==============================] - ETA: 46s - loss: 0.4883 - accuracy: 0.722 - ETA: 25s - loss: 0.4880 - accuracy: 0.720 - ETA: 17s - loss: 0.4876 - accuracy: 0.725 - ETA: 13s - loss: 0.4819 - accuracy: 0.739 - ETA: 11s - loss: 0.4771 - accuracy: 0.746 - ETA: 9s - loss: 0.4807 - accuracy: 0.747 - ETA: 8s - loss: 0.4768 - accuracy: 0.74 - ETA: 7s - loss: 0.4760 - accuracy: 0.75 - ETA: 6s - loss: 0.4769 - accuracy: 0.75 - ETA: 5s - loss: 0.4765 - accuracy: 0.75 - ETA: 5s - loss: 0.4766 - accuracy: 0.75 - ETA: 4s - loss: 0.4772 - accuracy: 0.75 - ETA: 4s - loss: 0.4777 - accuracy: 0.75 - ETA: 3s - loss: 0.4779 - accuracy: 0.75 - ETA: 3s - loss: 0.4768 - accuracy: 0.75 - ETA: 3s - loss: 0.4761 - accuracy: 0.75 - ETA: 2s - loss: 0.4741 - accuracy: 0.75 - ETA: 2s - loss: 0.4735 - accuracy: 0.75 - ETA: 2s - loss: 0.4737 - accuracy: 0.75 - ETA: 2s - loss: 0.4743 - accuracy: 0.75 - ETA: 1s - loss: 0.4742 - accuracy: 0.75 - ETA: 1s - loss: 0.4739 - accuracy: 0.75 - ETA: 1s - loss: 0.4728 - accuracy: 0.75 - ETA: 1s - loss: 0.4721 - accuracy: 0.75 - ETA: 0s - loss: 0.4705 - accuracy: 0.76 - ETA: 0s - loss: 0.4703 - accuracy: 0.76 - ETA: 0s - loss: 0.4712 - accuracy: 0.76 - ETA: 0s - loss: 0.4714 - accuracy: 0.76 - ETA: 0s - loss: 0.4709 - accuracy: 0.76 - 7s 240ms/step - loss: 0.4699 - accuracy: 0.7622 - val_loss: 0.4796 - val_accuracy: 0.7507\n",
      "Epoch 9/20\n",
      "30/30 [==============================] - ETA: 30s - loss: 0.4361 - accuracy: 0.800 - ETA: 16s - loss: 0.4417 - accuracy: 0.791 - ETA: 11s - loss: 0.4436 - accuracy: 0.778 - ETA: 8s - loss: 0.4499 - accuracy: 0.773 - ETA: 7s - loss: 0.4464 - accuracy: 0.77 - ETA: 6s - loss: 0.4440 - accuracy: 0.77 - ETA: 5s - loss: 0.4399 - accuracy: 0.78 - ETA: 4s - loss: 0.4386 - accuracy: 0.78 - ETA: 4s - loss: 0.4420 - accuracy: 0.78 - ETA: 3s - loss: 0.4424 - accuracy: 0.78 - ETA: 3s - loss: 0.4427 - accuracy: 0.78 - ETA: 3s - loss: 0.4446 - accuracy: 0.77 - ETA: 2s - loss: 0.4462 - accuracy: 0.77 - ETA: 2s - loss: 0.4469 - accuracy: 0.77 - ETA: 2s - loss: 0.4462 - accuracy: 0.77 - ETA: 2s - loss: 0.4456 - accuracy: 0.77 - ETA: 1s - loss: 0.4451 - accuracy: 0.77 - ETA: 1s - loss: 0.4447 - accuracy: 0.78 - ETA: 1s - loss: 0.4447 - accuracy: 0.78 - ETA: 1s - loss: 0.4451 - accuracy: 0.78 - ETA: 1s - loss: 0.4456 - accuracy: 0.78 - ETA: 1s - loss: 0.4446 - accuracy: 0.78 - ETA: 0s - loss: 0.4437 - accuracy: 0.78 - ETA: 0s - loss: 0.4431 - accuracy: 0.78 - ETA: 0s - loss: 0.4420 - accuracy: 0.78 - ETA: 0s - loss: 0.4409 - accuracy: 0.78 - ETA: 0s - loss: 0.4395 - accuracy: 0.78 - ETA: 0s - loss: 0.4389 - accuracy: 0.78 - ETA: 0s - loss: 0.4392 - accuracy: 0.78 - 6s 194ms/step - loss: 0.4384 - accuracy: 0.7853 - val_loss: 0.4533 - val_accuracy: 0.7752\n",
      "Epoch 10/20\n",
      "30/30 [==============================] - ETA: 40s - loss: 0.4349 - accuracy: 0.777 - ETA: 21s - loss: 0.4367 - accuracy: 0.799 - ETA: 14s - loss: 0.4281 - accuracy: 0.798 - ETA: 11s - loss: 0.4255 - accuracy: 0.797 - ETA: 9s - loss: 0.4334 - accuracy: 0.791 - ETA: 8s - loss: 0.4297 - accuracy: 0.79 - ETA: 7s - loss: 0.4270 - accuracy: 0.79 - ETA: 6s - loss: 0.4243 - accuracy: 0.79 - ETA: 5s - loss: 0.4243 - accuracy: 0.79 - ETA: 5s - loss: 0.4212 - accuracy: 0.80 - ETA: 4s - loss: 0.4212 - accuracy: 0.80 - ETA: 4s - loss: 0.4216 - accuracy: 0.80 - ETA: 3s - loss: 0.4185 - accuracy: 0.80 - ETA: 3s - loss: 0.4187 - accuracy: 0.80 - ETA: 3s - loss: 0.4185 - accuracy: 0.80 - ETA: 2s - loss: 0.4164 - accuracy: 0.80 - ETA: 2s - loss: 0.4158 - accuracy: 0.80 - ETA: 2s - loss: 0.4145 - accuracy: 0.80 - ETA: 2s - loss: 0.4128 - accuracy: 0.80 - ETA: 1s - loss: 0.4117 - accuracy: 0.80 - ETA: 1s - loss: 0.4112 - accuracy: 0.80 - ETA: 1s - loss: 0.4105 - accuracy: 0.80 - ETA: 1s - loss: 0.4101 - accuracy: 0.80 - ETA: 1s - loss: 0.4095 - accuracy: 0.80 - ETA: 0s - loss: 0.4098 - accuracy: 0.80 - ETA: 0s - loss: 0.4089 - accuracy: 0.80 - ETA: 0s - loss: 0.4083 - accuracy: 0.81 - ETA: 0s - loss: 0.4077 - accuracy: 0.81 - ETA: 0s - loss: 0.4069 - accuracy: 0.80 - 7s 224ms/step - loss: 0.4065 - accuracy: 0.8095 - val_loss: 0.4282 - val_accuracy: 0.7887\n",
      "Epoch 11/20\n",
      "30/30 [==============================] - ETA: 28s - loss: 0.3714 - accuracy: 0.800 - ETA: 16s - loss: 0.3830 - accuracy: 0.820 - ETA: 11s - loss: 0.3826 - accuracy: 0.822 - ETA: 9s - loss: 0.3856 - accuracy: 0.821 - ETA: 7s - loss: 0.3841 - accuracy: 0.81 - ETA: 6s - loss: 0.3805 - accuracy: 0.82 - ETA: 5s - loss: 0.3830 - accuracy: 0.82 - ETA: 5s - loss: 0.3799 - accuracy: 0.82 - ETA: 4s - loss: 0.3796 - accuracy: 0.82 - ETA: 4s - loss: 0.3767 - accuracy: 0.82 - ETA: 3s - loss: 0.3765 - accuracy: 0.82 - ETA: 3s - loss: 0.3765 - accuracy: 0.82 - ETA: 3s - loss: 0.3769 - accuracy: 0.82 - ETA: 2s - loss: 0.3782 - accuracy: 0.82 - ETA: 2s - loss: 0.3787 - accuracy: 0.82 - ETA: 2s - loss: 0.3804 - accuracy: 0.82 - ETA: 2s - loss: 0.3801 - accuracy: 0.82 - ETA: 2s - loss: 0.3794 - accuracy: 0.82 - ETA: 1s - loss: 0.3785 - accuracy: 0.82 - ETA: 1s - loss: 0.3787 - accuracy: 0.82 - ETA: 1s - loss: 0.3785 - accuracy: 0.82 - ETA: 1s - loss: 0.3778 - accuracy: 0.82 - ETA: 1s - loss: 0.3771 - accuracy: 0.82 - ETA: 0s - loss: 0.3766 - accuracy: 0.82 - ETA: 0s - loss: 0.3751 - accuracy: 0.82 - ETA: 0s - loss: 0.3746 - accuracy: 0.82 - ETA: 0s - loss: 0.3753 - accuracy: 0.82 - ETA: 0s - loss: 0.3746 - accuracy: 0.82 - ETA: 0s - loss: 0.3757 - accuracy: 0.82 - 6s 206ms/step - loss: 0.3751 - accuracy: 0.8278 - val_loss: 0.4071 - val_accuracy: 0.8184\n"
     ]
    },
    {
     "name": "stdout",
     "output_type": "stream",
     "text": [
      "Epoch 12/20\n",
      "30/30 [==============================] - ETA: 30s - loss: 0.3433 - accuracy: 0.851 - ETA: 16s - loss: 0.3537 - accuracy: 0.856 - ETA: 11s - loss: 0.3618 - accuracy: 0.848 - ETA: 9s - loss: 0.3606 - accuracy: 0.850 - ETA: 7s - loss: 0.3592 - accuracy: 0.85 - ETA: 6s - loss: 0.3542 - accuracy: 0.85 - ETA: 5s - loss: 0.3517 - accuracy: 0.85 - ETA: 4s - loss: 0.3525 - accuracy: 0.85 - ETA: 4s - loss: 0.3520 - accuracy: 0.85 - ETA: 3s - loss: 0.3532 - accuracy: 0.84 - ETA: 3s - loss: 0.3557 - accuracy: 0.84 - ETA: 3s - loss: 0.3557 - accuracy: 0.84 - ETA: 2s - loss: 0.3545 - accuracy: 0.84 - ETA: 2s - loss: 0.3537 - accuracy: 0.84 - ETA: 2s - loss: 0.3534 - accuracy: 0.84 - ETA: 2s - loss: 0.3521 - accuracy: 0.84 - ETA: 2s - loss: 0.3508 - accuracy: 0.84 - ETA: 1s - loss: 0.3505 - accuracy: 0.84 - ETA: 1s - loss: 0.3509 - accuracy: 0.84 - ETA: 1s - loss: 0.3497 - accuracy: 0.84 - ETA: 1s - loss: 0.3494 - accuracy: 0.84 - ETA: 1s - loss: 0.3503 - accuracy: 0.84 - ETA: 0s - loss: 0.3498 - accuracy: 0.84 - ETA: 0s - loss: 0.3493 - accuracy: 0.84 - ETA: 0s - loss: 0.3487 - accuracy: 0.84 - ETA: 0s - loss: 0.3486 - accuracy: 0.84 - ETA: 0s - loss: 0.3474 - accuracy: 0.84 - ETA: 0s - loss: 0.3479 - accuracy: 0.84 - ETA: 0s - loss: 0.3475 - accuracy: 0.84 - 6s 206ms/step - loss: 0.3460 - accuracy: 0.8467 - val_loss: 0.3829 - val_accuracy: 0.8203\n",
      "Epoch 13/20\n",
      "30/30 [==============================] - ETA: 28s - loss: 0.3267 - accuracy: 0.875 - ETA: 15s - loss: 0.3299 - accuracy: 0.868 - ETA: 11s - loss: 0.3389 - accuracy: 0.860 - ETA: 9s - loss: 0.3406 - accuracy: 0.855 - ETA: 7s - loss: 0.3415 - accuracy: 0.85 - ETA: 7s - loss: 0.3385 - accuracy: 0.85 - ETA: 6s - loss: 0.3345 - accuracy: 0.86 - ETA: 5s - loss: 0.3316 - accuracy: 0.86 - ETA: 5s - loss: 0.3331 - accuracy: 0.86 - ETA: 4s - loss: 0.3308 - accuracy: 0.86 - ETA: 4s - loss: 0.3301 - accuracy: 0.86 - ETA: 3s - loss: 0.3337 - accuracy: 0.85 - ETA: 3s - loss: 0.3331 - accuracy: 0.85 - ETA: 3s - loss: 0.3322 - accuracy: 0.85 - ETA: 2s - loss: 0.3327 - accuracy: 0.85 - ETA: 2s - loss: 0.3300 - accuracy: 0.85 - ETA: 2s - loss: 0.3287 - accuracy: 0.86 - ETA: 2s - loss: 0.3277 - accuracy: 0.86 - ETA: 1s - loss: 0.3260 - accuracy: 0.86 - ETA: 1s - loss: 0.3244 - accuracy: 0.86 - ETA: 1s - loss: 0.3233 - accuracy: 0.86 - ETA: 1s - loss: 0.3224 - accuracy: 0.86 - ETA: 1s - loss: 0.3225 - accuracy: 0.86 - ETA: 0s - loss: 0.3219 - accuracy: 0.86 - ETA: 0s - loss: 0.3223 - accuracy: 0.86 - ETA: 0s - loss: 0.3213 - accuracy: 0.86 - ETA: 0s - loss: 0.3204 - accuracy: 0.86 - ETA: 0s - loss: 0.3198 - accuracy: 0.86 - ETA: 0s - loss: 0.3185 - accuracy: 0.86 - 6s 210ms/step - loss: 0.3204 - accuracy: 0.8649 - val_loss: 0.3643 - val_accuracy: 0.8318\n",
      "Epoch 14/20\n",
      "30/30 [==============================] - ETA: 30s - loss: 0.3072 - accuracy: 0.861 - ETA: 16s - loss: 0.3055 - accuracy: 0.876 - ETA: 11s - loss: 0.2952 - accuracy: 0.881 - ETA: 9s - loss: 0.2959 - accuracy: 0.881 - ETA: 8s - loss: 0.2975 - accuracy: 0.88 - ETA: 6s - loss: 0.3009 - accuracy: 0.87 - ETA: 6s - loss: 0.3102 - accuracy: 0.87 - ETA: 5s - loss: 0.3098 - accuracy: 0.87 - ETA: 4s - loss: 0.3069 - accuracy: 0.87 - ETA: 4s - loss: 0.3037 - accuracy: 0.88 - ETA: 4s - loss: 0.3059 - accuracy: 0.87 - ETA: 3s - loss: 0.3041 - accuracy: 0.87 - ETA: 3s - loss: 0.3019 - accuracy: 0.87 - ETA: 3s - loss: 0.3011 - accuracy: 0.88 - ETA: 2s - loss: 0.2996 - accuracy: 0.87 - ETA: 2s - loss: 0.3000 - accuracy: 0.87 - ETA: 2s - loss: 0.2988 - accuracy: 0.87 - ETA: 2s - loss: 0.2977 - accuracy: 0.87 - ETA: 1s - loss: 0.2966 - accuracy: 0.87 - ETA: 1s - loss: 0.2960 - accuracy: 0.87 - ETA: 1s - loss: 0.2971 - accuracy: 0.87 - ETA: 1s - loss: 0.2967 - accuracy: 0.87 - ETA: 1s - loss: 0.2974 - accuracy: 0.87 - ETA: 0s - loss: 0.2973 - accuracy: 0.87 - ETA: 0s - loss: 0.2964 - accuracy: 0.87 - ETA: 0s - loss: 0.2965 - accuracy: 0.87 - ETA: 0s - loss: 0.2967 - accuracy: 0.87 - ETA: 0s - loss: 0.2965 - accuracy: 0.87 - ETA: 0s - loss: 0.2947 - accuracy: 0.87 - 7s 220ms/step - loss: 0.2938 - accuracy: 0.8769 - val_loss: 0.3487 - val_accuracy: 0.8371\n",
      "Epoch 15/20\n",
      "30/30 [==============================] - ETA: 42s - loss: 0.3005 - accuracy: 0.863 - ETA: 23s - loss: 0.2709 - accuracy: 0.880 - ETA: 15s - loss: 0.2701 - accuracy: 0.879 - ETA: 12s - loss: 0.2839 - accuracy: 0.872 - ETA: 10s - loss: 0.2826 - accuracy: 0.877 - ETA: 9s - loss: 0.2790 - accuracy: 0.877 - ETA: 8s - loss: 0.2804 - accuracy: 0.87 - ETA: 7s - loss: 0.2788 - accuracy: 0.87 - ETA: 6s - loss: 0.2824 - accuracy: 0.87 - ETA: 5s - loss: 0.2817 - accuracy: 0.88 - ETA: 5s - loss: 0.2797 - accuracy: 0.88 - ETA: 4s - loss: 0.2755 - accuracy: 0.88 - ETA: 4s - loss: 0.2748 - accuracy: 0.88 - ETA: 3s - loss: 0.2740 - accuracy: 0.88 - ETA: 3s - loss: 0.2734 - accuracy: 0.88 - ETA: 3s - loss: 0.2742 - accuracy: 0.88 - ETA: 2s - loss: 0.2769 - accuracy: 0.88 - ETA: 2s - loss: 0.2752 - accuracy: 0.88 - ETA: 2s - loss: 0.2750 - accuracy: 0.88 - ETA: 1s - loss: 0.2740 - accuracy: 0.88 - ETA: 1s - loss: 0.2738 - accuracy: 0.88 - ETA: 1s - loss: 0.2739 - accuracy: 0.88 - ETA: 1s - loss: 0.2745 - accuracy: 0.88 - ETA: 1s - loss: 0.2742 - accuracy: 0.88 - ETA: 0s - loss: 0.2735 - accuracy: 0.88 - ETA: 0s - loss: 0.2748 - accuracy: 0.88 - ETA: 0s - loss: 0.2739 - accuracy: 0.88 - ETA: 0s - loss: 0.2724 - accuracy: 0.88 - ETA: 0s - loss: 0.2720 - accuracy: 0.88 - 7s 230ms/step - loss: 0.2710 - accuracy: 0.8879 - val_loss: 0.3348 - val_accuracy: 0.8494\n",
      "Epoch 16/20\n",
      "30/30 [==============================] - ETA: 38s - loss: 0.2581 - accuracy: 0.904 - ETA: 20s - loss: 0.2386 - accuracy: 0.906 - ETA: 14s - loss: 0.2437 - accuracy: 0.899 - ETA: 11s - loss: 0.2429 - accuracy: 0.898 - ETA: 9s - loss: 0.2450 - accuracy: 0.899 - ETA: 8s - loss: 0.2478 - accuracy: 0.89 - ETA: 7s - loss: 0.2452 - accuracy: 0.89 - ETA: 6s - loss: 0.2460 - accuracy: 0.89 - ETA: 5s - loss: 0.2521 - accuracy: 0.89 - ETA: 5s - loss: 0.2529 - accuracy: 0.89 - ETA: 4s - loss: 0.2571 - accuracy: 0.89 - ETA: 4s - loss: 0.2542 - accuracy: 0.89 - ETA: 3s - loss: 0.2544 - accuracy: 0.89 - ETA: 3s - loss: 0.2543 - accuracy: 0.89 - ETA: 3s - loss: 0.2536 - accuracy: 0.89 - ETA: 2s - loss: 0.2535 - accuracy: 0.89 - ETA: 2s - loss: 0.2545 - accuracy: 0.89 - ETA: 2s - loss: 0.2552 - accuracy: 0.89 - ETA: 2s - loss: 0.2544 - accuracy: 0.89 - ETA: 1s - loss: 0.2547 - accuracy: 0.89 - ETA: 1s - loss: 0.2538 - accuracy: 0.89 - ETA: 1s - loss: 0.2527 - accuracy: 0.89 - ETA: 1s - loss: 0.2518 - accuracy: 0.89 - ETA: 1s - loss: 0.2519 - accuracy: 0.89 - ETA: 0s - loss: 0.2515 - accuracy: 0.89 - ETA: 0s - loss: 0.2509 - accuracy: 0.89 - ETA: 0s - loss: 0.2510 - accuracy: 0.89 - ETA: 0s - loss: 0.2511 - accuracy: 0.89 - ETA: 0s - loss: 0.2504 - accuracy: 0.89 - 7s 221ms/step - loss: 0.2546 - accuracy: 0.8987 - val_loss: 0.3238 - val_accuracy: 0.8543\n",
      "Epoch 17/20\n",
      "30/30 [==============================] - ETA: 34s - loss: 0.2426 - accuracy: 0.912 - ETA: 18s - loss: 0.2450 - accuracy: 0.907 - ETA: 12s - loss: 0.2440 - accuracy: 0.905 - ETA: 10s - loss: 0.2459 - accuracy: 0.900 - ETA: 8s - loss: 0.2440 - accuracy: 0.900 - ETA: 7s - loss: 0.2423 - accuracy: 0.90 - ETA: 6s - loss: 0.2377 - accuracy: 0.90 - ETA: 6s - loss: 0.2361 - accuracy: 0.90 - ETA: 5s - loss: 0.2361 - accuracy: 0.90 - ETA: 4s - loss: 0.2343 - accuracy: 0.90 - ETA: 4s - loss: 0.2330 - accuracy: 0.90 - ETA: 4s - loss: 0.2346 - accuracy: 0.90 - ETA: 3s - loss: 0.2350 - accuracy: 0.90 - ETA: 3s - loss: 0.2349 - accuracy: 0.90 - ETA: 3s - loss: 0.2364 - accuracy: 0.90 - ETA: 2s - loss: 0.2354 - accuracy: 0.90 - ETA: 2s - loss: 0.2354 - accuracy: 0.90 - ETA: 2s - loss: 0.2346 - accuracy: 0.90 - ETA: 2s - loss: 0.2335 - accuracy: 0.90 - ETA: 1s - loss: 0.2336 - accuracy: 0.90 - ETA: 1s - loss: 0.2338 - accuracy: 0.90 - ETA: 1s - loss: 0.2337 - accuracy: 0.90 - ETA: 1s - loss: 0.2325 - accuracy: 0.90 - ETA: 0s - loss: 0.2331 - accuracy: 0.90 - ETA: 0s - loss: 0.2332 - accuracy: 0.90 - ETA: 0s - loss: 0.2342 - accuracy: 0.90 - ETA: 0s - loss: 0.2349 - accuracy: 0.90 - ETA: 0s - loss: 0.2343 - accuracy: 0.90 - ETA: 0s - loss: 0.2337 - accuracy: 0.90 - 7s 228ms/step - loss: 0.2327 - accuracy: 0.9091 - val_loss: 0.3155 - val_accuracy: 0.8573\n"
     ]
    },
    {
     "name": "stdout",
     "output_type": "stream",
     "text": [
      "Epoch 18/20\n",
      "30/30 [==============================] - ETA: 30s - loss: 0.1950 - accuracy: 0.939 - ETA: 16s - loss: 0.2151 - accuracy: 0.913 - ETA: 11s - loss: 0.2221 - accuracy: 0.912 - ETA: 9s - loss: 0.2231 - accuracy: 0.911 - ETA: 7s - loss: 0.2235 - accuracy: 0.91 - ETA: 6s - loss: 0.2192 - accuracy: 0.91 - ETA: 5s - loss: 0.2172 - accuracy: 0.91 - ETA: 5s - loss: 0.2196 - accuracy: 0.91 - ETA: 4s - loss: 0.2182 - accuracy: 0.91 - ETA: 4s - loss: 0.2165 - accuracy: 0.91 - ETA: 3s - loss: 0.2158 - accuracy: 0.91 - ETA: 3s - loss: 0.2163 - accuracy: 0.91 - ETA: 3s - loss: 0.2149 - accuracy: 0.91 - ETA: 2s - loss: 0.2130 - accuracy: 0.91 - ETA: 2s - loss: 0.2140 - accuracy: 0.91 - ETA: 2s - loss: 0.2137 - accuracy: 0.91 - ETA: 2s - loss: 0.2133 - accuracy: 0.91 - ETA: 1s - loss: 0.2149 - accuracy: 0.91 - ETA: 1s - loss: 0.2160 - accuracy: 0.91 - ETA: 1s - loss: 0.2164 - accuracy: 0.91 - ETA: 1s - loss: 0.2172 - accuracy: 0.91 - ETA: 1s - loss: 0.2167 - accuracy: 0.91 - ETA: 1s - loss: 0.2162 - accuracy: 0.91 - ETA: 0s - loss: 0.2168 - accuracy: 0.91 - ETA: 0s - loss: 0.2173 - accuracy: 0.91 - ETA: 0s - loss: 0.2184 - accuracy: 0.91 - ETA: 0s - loss: 0.2182 - accuracy: 0.91 - ETA: 0s - loss: 0.2180 - accuracy: 0.91 - ETA: 0s - loss: 0.2171 - accuracy: 0.91 - 6s 203ms/step - loss: 0.2169 - accuracy: 0.9154 - val_loss: 0.3092 - val_accuracy: 0.8628\n",
      "Epoch 19/20\n",
      "30/30 [==============================] - ETA: 31s - loss: 0.2174 - accuracy: 0.918 - ETA: 16s - loss: 0.2145 - accuracy: 0.919 - ETA: 11s - loss: 0.2208 - accuracy: 0.914 - ETA: 9s - loss: 0.2208 - accuracy: 0.915 - ETA: 7s - loss: 0.2122 - accuracy: 0.92 - ETA: 6s - loss: 0.2101 - accuracy: 0.92 - ETA: 6s - loss: 0.2106 - accuracy: 0.92 - ETA: 5s - loss: 0.2123 - accuracy: 0.91 - ETA: 4s - loss: 0.2123 - accuracy: 0.91 - ETA: 4s - loss: 0.2112 - accuracy: 0.91 - ETA: 3s - loss: 0.2117 - accuracy: 0.91 - ETA: 3s - loss: 0.2144 - accuracy: 0.91 - ETA: 3s - loss: 0.2115 - accuracy: 0.91 - ETA: 2s - loss: 0.2099 - accuracy: 0.91 - ETA: 2s - loss: 0.2075 - accuracy: 0.91 - ETA: 2s - loss: 0.2095 - accuracy: 0.91 - ETA: 2s - loss: 0.2086 - accuracy: 0.91 - ETA: 2s - loss: 0.2082 - accuracy: 0.91 - ETA: 1s - loss: 0.2072 - accuracy: 0.91 - ETA: 1s - loss: 0.2080 - accuracy: 0.91 - ETA: 1s - loss: 0.2077 - accuracy: 0.91 - ETA: 1s - loss: 0.2081 - accuracy: 0.91 - ETA: 1s - loss: 0.2077 - accuracy: 0.91 - ETA: 0s - loss: 0.2062 - accuracy: 0.91 - ETA: 0s - loss: 0.2058 - accuracy: 0.91 - ETA: 0s - loss: 0.2052 - accuracy: 0.91 - ETA: 0s - loss: 0.2045 - accuracy: 0.92 - ETA: 0s - loss: 0.2039 - accuracy: 0.92 - ETA: 0s - loss: 0.2038 - accuracy: 0.92 - 6s 213ms/step - loss: 0.2015 - accuracy: 0.9209 - val_loss: 0.3040 - val_accuracy: 0.8665\n",
      "Epoch 20/20\n",
      "30/30 [==============================] - ETA: 32s - loss: 0.2335 - accuracy: 0.902 - ETA: 18s - loss: 0.2035 - accuracy: 0.923 - ETA: 12s - loss: 0.1894 - accuracy: 0.936 - ETA: 9s - loss: 0.1864 - accuracy: 0.935 - ETA: 8s - loss: 0.1857 - accuracy: 0.93 - ETA: 7s - loss: 0.1863 - accuracy: 0.93 - ETA: 6s - loss: 0.1909 - accuracy: 0.93 - ETA: 5s - loss: 0.1925 - accuracy: 0.92 - ETA: 5s - loss: 0.1899 - accuracy: 0.93 - ETA: 4s - loss: 0.1893 - accuracy: 0.93 - ETA: 4s - loss: 0.1882 - accuracy: 0.93 - ETA: 3s - loss: 0.1889 - accuracy: 0.93 - ETA: 3s - loss: 0.1896 - accuracy: 0.92 - ETA: 3s - loss: 0.1902 - accuracy: 0.93 - ETA: 2s - loss: 0.1881 - accuracy: 0.93 - ETA: 2s - loss: 0.1880 - accuracy: 0.93 - ETA: 2s - loss: 0.1885 - accuracy: 0.93 - ETA: 2s - loss: 0.1885 - accuracy: 0.93 - ETA: 1s - loss: 0.1897 - accuracy: 0.93 - ETA: 1s - loss: 0.1890 - accuracy: 0.93 - ETA: 1s - loss: 0.1888 - accuracy: 0.93 - ETA: 1s - loss: 0.1890 - accuracy: 0.93 - ETA: 1s - loss: 0.1888 - accuracy: 0.93 - ETA: 0s - loss: 0.1888 - accuracy: 0.92 - ETA: 0s - loss: 0.1881 - accuracy: 0.93 - ETA: 0s - loss: 0.1872 - accuracy: 0.93 - ETA: 0s - loss: 0.1877 - accuracy: 0.92 - ETA: 0s - loss: 0.1887 - accuracy: 0.92 - ETA: 0s - loss: 0.1890 - accuracy: 0.92 - 7s 219ms/step - loss: 0.1898 - accuracy: 0.9294 - val_loss: 0.3012 - val_accuracy: 0.8660\n"
     ]
    }
   ],
   "source": [
    "# the fit() methods returns a collection of intermediate results, which can be useful\n",
    "# to evaluate the model\n",
    "history = model.fit(train_data.shuffle(10000).batch(512),\n",
    "                    epochs=20,\n",
    "                    validation_data=validation_data.batch(512),\n",
    "                    verbose=1)"
   ]
  },
  {
   "cell_type": "markdown",
   "metadata": {},
   "source": [
    "## Evaluate the model"
   ]
  },
  {
   "cell_type": "code",
   "execution_count": 13,
   "metadata": {},
   "outputs": [
    {
     "name": "stdout",
     "output_type": "stream",
     "text": [
      "loss: 0.318\n",
      "accuracy: 0.854\n"
     ]
    }
   ],
   "source": [
    "results = model.evaluate(test_data.batch(512), verbose=2)\n",
    "\n",
    "for name, value in zip(model.metrics_names, results):\n",
    "  print(\"%s: %.3f\" % (name, value))"
   ]
  },
  {
   "cell_type": "code",
   "execution_count": 14,
   "metadata": {},
   "outputs": [
    {
     "data": {
      "text/plain": [
       "array([[-1.1002342 ],\n",
       "       [ 0.64738315],\n",
       "       [ 3.419432  ],\n",
       "       [-0.47325426],\n",
       "       [-2.4934766 ]], dtype=float32)"
      ]
     },
     "execution_count": 14,
     "metadata": {},
     "output_type": "execute_result"
    }
   ],
   "source": [
    "# How about my own reviews?\n",
    "my_review = np.array([\"This movie is the worst action movie I have ever watched in my entire life.\",\n",
    "                      \"I really enjoyed the plot, but the lead actor didn't portray his character well.\",\n",
    "                      \"It is the most visually stunning movie in the series. The acting is outstanding too.\",\n",
    "                      \"I really like that everyone in this movie makes it crystal clear that they don't care the quality at all.\",\n",
    "                      \"There is nothing about the movie that I don't like. I wish everyone else just stop making movies since no moive can be better than this one.\"])\n",
    "model(my_review).numpy()"
   ]
  },
  {
   "cell_type": "code",
   "execution_count": 16,
   "metadata": {},
   "outputs": [],
   "source": [
    "# Extract 20 reviews from the test set\n",
    "reviews, labels = next(iter(test_data.batch(20)))\n",
    "predictions = model(reviews).numpy()"
   ]
  },
  {
   "cell_type": "code",
   "execution_count": 17,
   "metadata": {},
   "outputs": [
    {
     "data": {
      "text/plain": [
       "array([1, 0, 1, 0, 0, 0, 1, 1, 1, 0, 0, 1, 0, 0, 1, 0, 0, 0, 1, 1],\n",
       "      dtype=int64)"
      ]
     },
     "execution_count": 17,
     "metadata": {},
     "output_type": "execute_result"
    }
   ],
   "source": [
    "labels.numpy()"
   ]
  },
  {
   "cell_type": "code",
   "execution_count": 18,
   "metadata": {},
   "outputs": [
    {
     "data": {
      "text/plain": [
       "array([0, 0, 1, 0, 0, 0, 1, 1, 1, 0, 0, 1, 0, 0, 1, 0, 0, 0, 1, 1])"
      ]
     },
     "execution_count": 18,
     "metadata": {},
     "output_type": "execute_result"
    }
   ],
   "source": [
    "(predictions > 0).astype(int).reshape(-1)"
   ]
  },
  {
   "cell_type": "code",
   "execution_count": 19,
   "metadata": {},
   "outputs": [
    {
     "data": {
      "text/plain": [
       "<tf.Tensor: shape=(), dtype=string, numpy=b'It opens with your cliche overly long ship flying through space. All I could think at this point was \"Spaceballs\" and hoping there\\'d be a sticker on back that said \"We break for Nobody.\" The movie then shows some cryogenic freezers with Vin Diesel\\'s narration. I\\'ve always thought his voice sounded cool ever since I saw Fast and the Furious. From when I found out he was as criminal, I thought the movie was going to be cliche. It was. It was very cliche and fate seemed to be against them at every turn. Black out every 22 years. Lucky them, they land on that day. Aliens can only be in the darkness, hey it\\'s a solar eclipse. As much as I thought it was too easy and just a cliche, the movie pulled through and kicked major @ss. I even went out and bought a copy of Pitch Black after seeing it. I really can\\'t wait for Chronicles of Riddick.'>"
      ]
     },
     "execution_count": 19,
     "metadata": {},
     "output_type": "execute_result"
    }
   ],
   "source": [
    "reviews[0]"
   ]
  },
  {
   "cell_type": "markdown",
   "metadata": {},
   "source": [
    "# Word Embedding"
   ]
  },
  {
   "cell_type": "markdown",
   "metadata": {},
   "source": [
    "## Why transform words into vectors?"
   ]
  },
  {
   "cell_type": "markdown",
   "metadata": {},
   "source": [
    "## Challenges for word embedding\n",
    "- curse of dimensionality\n",
    "- performance metrics\n",
    "- training algorithm"
   ]
  },
  {
   "cell_type": "markdown",
   "metadata": {},
   "source": [
    "# Popular embedding models\n",
    "- Word2Vec\n",
    "- BERT\n",
    "- Train your own embedding"
   ]
  },
  {
   "cell_type": "code",
   "execution_count": null,
   "metadata": {},
   "outputs": [],
   "source": []
  },
  {
   "cell_type": "code",
   "execution_count": null,
   "metadata": {},
   "outputs": [],
   "source": []
  },
  {
   "cell_type": "code",
   "execution_count": null,
   "metadata": {},
   "outputs": [],
   "source": []
  },
  {
   "cell_type": "markdown",
   "metadata": {},
   "source": [
    "# Homework: FashionMNIST\n",
    "\n",
    "For this homework assignment, you are asked to build a neural network classifier on the FasionMNIST dataset. The FashionMNIST dataset has a lot in common with the MNIST dataset:\n",
    "- The dataset contains 70,000 grayscale images, split into training set (60,000 images) and test set (10,000 images).\n",
    "- The resolution of images is 28 by 28 pixels.\n",
    "- There are a total of 10 target labels.\n",
    "\n",
    "<img src=\"https://tensorflow.org/images/fashion-mnist-sprite.png\" width=\"600\">"
   ]
  },
  {
   "cell_type": "code",
   "execution_count": null,
   "metadata": {},
   "outputs": [],
   "source": [
    "# Import the dataset\n",
    "fashion_mnist = tf.keras.datasets.fashion_mnist\n",
    "\n",
    "(train_images, train_labels), (test_images, test_labels) = fashion_mnist.load_data()"
   ]
  },
  {
   "cell_type": "code",
   "execution_count": null,
   "metadata": {},
   "outputs": [],
   "source": [
    "# Here are the list of class names\n",
    "class_names = ['T-shirt/top', 'Trouser', 'Pullover', 'Dress', 'Coat',\n",
    "               'Sandal', 'Shirt', 'Sneaker', 'Bag', 'Ankle boot']"
   ]
  },
  {
   "cell_type": "markdown",
   "metadata": {},
   "source": [
    "Please complete the following tasks:\n",
    "1. Scale the values to [0, 1] by dividing every value by 255.0.\n",
    "2. Use `plt.imshow()` to display one image from each class.\n",
    "3. Build a neural network with three layers:\n",
    "    - The first layer is a flatten layer of size 28 * 28.\n",
    "    - The second layer is a dense layer with 128 nodes, with ReLU as activation function.\n",
    "    - The last layer is a dense layer with 10 nodes without activation.\n",
    "4. Compile the model, using `adam` as optimizer and `tf.keras.losses.SparseCategoricalCrossentropy(from_logits=True)` as loss function. Use `accuracy` as performance metrics.\n",
    "5. Train the model using `train_images` and `train_labels` for 10 epochs.\n",
    "6. Evaluate the accuracy on the test set.\n",
    "7. (optional for undergraduate students) Compute the confusion matrix over test set. Which type of prediction mistake occurs most frequently?"
   ]
  },
  {
   "cell_type": "code",
   "execution_count": null,
   "metadata": {},
   "outputs": [],
   "source": []
  }
 ],
 "metadata": {
  "kernelspec": {
   "display_name": "Python 3",
   "language": "python",
   "name": "python3"
  },
  "language_info": {
   "codemirror_mode": {
    "name": "ipython",
    "version": 3
   },
   "file_extension": ".py",
   "mimetype": "text/x-python",
   "name": "python",
   "nbconvert_exporter": "python",
   "pygments_lexer": "ipython3",
   "version": "3.7.4"
  }
 },
 "nbformat": 4,
 "nbformat_minor": 2
}
