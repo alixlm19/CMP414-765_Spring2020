{
 "cells": [
  {
   "cell_type": "markdown",
   "metadata": {},
   "source": [
    "# Week 5\n",
    "# Simple Linear Regression and the Normal Equation (Chapter 4)\n",
    "\n",
    "So far we have treated machine learning models and their training algorithms mostly like black boxes. Starting from Chapter 4, we will look into the mechanism of several popular machine learning models, analyze them mathematically and learn how to implement the methods from scratch. Let's start with the linear regression model."
   ]
  },
  {
   "cell_type": "markdown",
   "metadata": {},
   "source": [
    "## I. Simple Linear regression: Sales Prediction\n",
    "\n",
    "To put things into context, let's look at a dataset that contains the sales revenue and the advertising budgets of a company in 200 different markets."
   ]
  },
  {
   "cell_type": "code",
   "execution_count": 1,
   "metadata": {},
   "outputs": [],
   "source": [
    "import numpy as np\n",
    "import pandas as pd\n",
    "import matplotlib.pyplot as plt\n",
    "%matplotlib inline"
   ]
  },
  {
   "cell_type": "code",
   "execution_count": 2,
   "metadata": {},
   "outputs": [
    {
     "data": {
      "text/html": [
       "<div>\n",
       "<style scoped>\n",
       "    .dataframe tbody tr th:only-of-type {\n",
       "        vertical-align: middle;\n",
       "    }\n",
       "\n",
       "    .dataframe tbody tr th {\n",
       "        vertical-align: top;\n",
       "    }\n",
       "\n",
       "    .dataframe thead th {\n",
       "        text-align: right;\n",
       "    }\n",
       "</style>\n",
       "<table border=\"1\" class=\"dataframe\">\n",
       "  <thead>\n",
       "    <tr style=\"text-align: right;\">\n",
       "      <th></th>\n",
       "      <th>TV</th>\n",
       "      <th>radio</th>\n",
       "      <th>newspaper</th>\n",
       "      <th>sales</th>\n",
       "    </tr>\n",
       "  </thead>\n",
       "  <tbody>\n",
       "    <tr>\n",
       "      <td>1</td>\n",
       "      <td>230.1</td>\n",
       "      <td>37.8</td>\n",
       "      <td>69.2</td>\n",
       "      <td>22.1</td>\n",
       "    </tr>\n",
       "    <tr>\n",
       "      <td>2</td>\n",
       "      <td>44.5</td>\n",
       "      <td>39.3</td>\n",
       "      <td>45.1</td>\n",
       "      <td>10.4</td>\n",
       "    </tr>\n",
       "    <tr>\n",
       "      <td>3</td>\n",
       "      <td>17.2</td>\n",
       "      <td>45.9</td>\n",
       "      <td>69.3</td>\n",
       "      <td>9.3</td>\n",
       "    </tr>\n",
       "    <tr>\n",
       "      <td>4</td>\n",
       "      <td>151.5</td>\n",
       "      <td>41.3</td>\n",
       "      <td>58.5</td>\n",
       "      <td>18.5</td>\n",
       "    </tr>\n",
       "    <tr>\n",
       "      <td>5</td>\n",
       "      <td>180.8</td>\n",
       "      <td>10.8</td>\n",
       "      <td>58.4</td>\n",
       "      <td>12.9</td>\n",
       "    </tr>\n",
       "  </tbody>\n",
       "</table>\n",
       "</div>"
      ],
      "text/plain": [
       "      TV  radio  newspaper  sales\n",
       "1  230.1   37.8       69.2   22.1\n",
       "2   44.5   39.3       45.1   10.4\n",
       "3   17.2   45.9       69.3    9.3\n",
       "4  151.5   41.3       58.5   18.5\n",
       "5  180.8   10.8       58.4   12.9"
      ]
     },
     "execution_count": 2,
     "metadata": {},
     "output_type": "execute_result"
    }
   ],
   "source": [
    "url = \"http://faculty.marshall.usc.edu/gareth-james/ISL/Advertising.csv\"\n",
    "advertising = pd.read_csv(url, index_col=0)\n",
    "advertising.head()"
   ]
  },
  {
   "cell_type": "code",
   "execution_count": 3,
   "metadata": {},
   "outputs": [
    {
     "name": "stdout",
     "output_type": "stream",
     "text": [
      "<class 'pandas.core.frame.DataFrame'>\n",
      "Int64Index: 200 entries, 1 to 200\n",
      "Data columns (total 4 columns):\n",
      "TV           200 non-null float64\n",
      "radio        200 non-null float64\n",
      "newspaper    200 non-null float64\n",
      "sales        200 non-null float64\n",
      "dtypes: float64(4)\n",
      "memory usage: 7.8 KB\n"
     ]
    }
   ],
   "source": [
    "advertising.info()"
   ]
  },
  {
   "cell_type": "code",
   "execution_count": 4,
   "metadata": {},
   "outputs": [
    {
     "data": {
      "text/html": [
       "<div>\n",
       "<style scoped>\n",
       "    .dataframe tbody tr th:only-of-type {\n",
       "        vertical-align: middle;\n",
       "    }\n",
       "\n",
       "    .dataframe tbody tr th {\n",
       "        vertical-align: top;\n",
       "    }\n",
       "\n",
       "    .dataframe thead th {\n",
       "        text-align: right;\n",
       "    }\n",
       "</style>\n",
       "<table border=\"1\" class=\"dataframe\">\n",
       "  <thead>\n",
       "    <tr style=\"text-align: right;\">\n",
       "      <th></th>\n",
       "      <th>TV</th>\n",
       "      <th>radio</th>\n",
       "      <th>newspaper</th>\n",
       "      <th>sales</th>\n",
       "    </tr>\n",
       "  </thead>\n",
       "  <tbody>\n",
       "    <tr>\n",
       "      <td>count</td>\n",
       "      <td>200.000000</td>\n",
       "      <td>200.000000</td>\n",
       "      <td>200.000000</td>\n",
       "      <td>200.000000</td>\n",
       "    </tr>\n",
       "    <tr>\n",
       "      <td>mean</td>\n",
       "      <td>147.042500</td>\n",
       "      <td>23.264000</td>\n",
       "      <td>30.554000</td>\n",
       "      <td>14.022500</td>\n",
       "    </tr>\n",
       "    <tr>\n",
       "      <td>std</td>\n",
       "      <td>85.854236</td>\n",
       "      <td>14.846809</td>\n",
       "      <td>21.778621</td>\n",
       "      <td>5.217457</td>\n",
       "    </tr>\n",
       "    <tr>\n",
       "      <td>min</td>\n",
       "      <td>0.700000</td>\n",
       "      <td>0.000000</td>\n",
       "      <td>0.300000</td>\n",
       "      <td>1.600000</td>\n",
       "    </tr>\n",
       "    <tr>\n",
       "      <td>25%</td>\n",
       "      <td>74.375000</td>\n",
       "      <td>9.975000</td>\n",
       "      <td>12.750000</td>\n",
       "      <td>10.375000</td>\n",
       "    </tr>\n",
       "    <tr>\n",
       "      <td>50%</td>\n",
       "      <td>149.750000</td>\n",
       "      <td>22.900000</td>\n",
       "      <td>25.750000</td>\n",
       "      <td>12.900000</td>\n",
       "    </tr>\n",
       "    <tr>\n",
       "      <td>75%</td>\n",
       "      <td>218.825000</td>\n",
       "      <td>36.525000</td>\n",
       "      <td>45.100000</td>\n",
       "      <td>17.400000</td>\n",
       "    </tr>\n",
       "    <tr>\n",
       "      <td>max</td>\n",
       "      <td>296.400000</td>\n",
       "      <td>49.600000</td>\n",
       "      <td>114.000000</td>\n",
       "      <td>27.000000</td>\n",
       "    </tr>\n",
       "  </tbody>\n",
       "</table>\n",
       "</div>"
      ],
      "text/plain": [
       "               TV       radio   newspaper       sales\n",
       "count  200.000000  200.000000  200.000000  200.000000\n",
       "mean   147.042500   23.264000   30.554000   14.022500\n",
       "std     85.854236   14.846809   21.778621    5.217457\n",
       "min      0.700000    0.000000    0.300000    1.600000\n",
       "25%     74.375000    9.975000   12.750000   10.375000\n",
       "50%    149.750000   22.900000   25.750000   12.900000\n",
       "75%    218.825000   36.525000   45.100000   17.400000\n",
       "max    296.400000   49.600000  114.000000   27.000000"
      ]
     },
     "execution_count": 4,
     "metadata": {},
     "output_type": "execute_result"
    }
   ],
   "source": [
    "advertising.describe()"
   ]
  },
  {
   "cell_type": "code",
   "execution_count": 5,
   "metadata": {},
   "outputs": [
    {
     "data": {
      "text/plain": [
       "array([[<matplotlib.axes._subplots.AxesSubplot object at 0x0000017DAA136BC8>,\n",
       "        <matplotlib.axes._subplots.AxesSubplot object at 0x0000017DAA3DE288>],\n",
       "       [<matplotlib.axes._subplots.AxesSubplot object at 0x0000017DAA419208>,\n",
       "        <matplotlib.axes._subplots.AxesSubplot object at 0x0000017DAA452308>]],\n",
       "      dtype=object)"
      ]
     },
     "execution_count": 5,
     "metadata": {},
     "output_type": "execute_result"
    },
    {
     "data": {
      "image/png": "[encoded data removed]",
      "text/plain": [
       "<Figure size 432x288 with 4 Axes>"
      ]
     },
     "metadata": {
      "needs_background": "light"
     },
     "output_type": "display_data"
    }
   ],
   "source": [
    "advertising.hist()"
   ]
  },
  {
   "cell_type": "code",
   "execution_count": 6,
   "metadata": {
    "scrolled": false
   },
   "outputs": [
    {
     "data": {
      "image/png": "[encoded data removed]",
      "text/plain": [
       "<Figure size 432x288 with 1 Axes>"
      ]
     },
     "metadata": {
      "needs_background": "light"
     },
     "output_type": "display_data"
    }
   ],
   "source": [
    "# plot TV vs. sales\n",
    "plt.plot(advertising['TV'], advertising['sales'], 'g.')\n",
    "plt.title(\"TV vs. sales\")\n",
    "plt.xlabel(\"TV budget\")\n",
    "plt.ylabel(\"Sales Revenue\")\n",
    "plt.savefig(\"TVvsSales.png\")\n",
    "plt.show() # this is needed in other Python environments"
   ]
  },
  {
   "cell_type": "code",
   "execution_count": 7,
   "metadata": {},
   "outputs": [
    {
     "data": {
      "text/plain": [
       "[<matplotlib.lines.Line2D at 0x17daa5fc4c8>]"
      ]
     },
     "execution_count": 7,
     "metadata": {},
     "output_type": "execute_result"
    },
    {
     "data": {
      "image/png": "[encoded data removed]",
      "text/plain": [
       "<Figure size 432x288 with 1 Axes>"
      ]
     },
     "metadata": {
      "needs_background": "light"
     },
     "output_type": "display_data"
    }
   ],
   "source": [
    "# plot radio vs. sales\n",
    "plt.plot(advertising['radio'], advertising['sales'], 'r^')"
   ]
  },
  {
   "cell_type": "code",
   "execution_count": 8,
   "metadata": {},
   "outputs": [
    {
     "data": {
      "text/plain": [
       "[<matplotlib.lines.Line2D at 0x17daa651588>]"
      ]
     },
     "execution_count": 8,
     "metadata": {},
     "output_type": "execute_result"
    },
    {
     "data": {
      "image/png": "[encoded data removed]",
      "text/plain": [
       "<Figure size 432x288 with 1 Axes>"
      ]
     },
     "metadata": {
      "needs_background": "light"
     },
     "output_type": "display_data"
    }
   ],
   "source": [
    "# plot newspaper vs. sales\n",
    "plt.plot(advertising['newspaper'], advertising['sales'], 'b.')"
   ]
  },
  {
   "cell_type": "markdown",
   "metadata": {},
   "source": [
    "### Correlation Coefficient\n",
    "The **correlation coefficient** is a numerical measurement of linear correlation between two variables.\n",
    "- The value of correlation coefficient always lies in [-1, 1].\n",
    "- If there is a strong positive correlation, then the coefficient is close to 1.\n",
    "- If there is a strong negative correlation, then the coefficient is close to -1.\n",
    "- If there is a very weak correlation, then the coefficient is close to 0.\n",
    "- However, a near-zero coeffient may be caused by non-linear correlations.\n",
    "![](https://upload.wikimedia.org/wikipedia/commons/d/d4/Correlation_examples2.svg)"
   ]
  },
  {
   "cell_type": "code",
   "execution_count": 13,
   "metadata": {},
   "outputs": [
    {
     "data": {
      "text/plain": [
       "0.7822244248616061"
      ]
     },
     "execution_count": 13,
     "metadata": {},
     "output_type": "execute_result"
    }
   ],
   "source": [
    "# Calculate the correlation coefficients of each input feature and sales\n",
    "np.corrcoef(advertising['TV'], advertising['sales'])[0, 1]"
   ]
  },
  {
   "cell_type": "code",
   "execution_count": 10,
   "metadata": {},
   "outputs": [
    {
     "data": {
      "text/plain": [
       "0.5762225745710551"
      ]
     },
     "execution_count": 10,
     "metadata": {},
     "output_type": "execute_result"
    }
   ],
   "source": [
    "np.corrcoef(advertising['radio'], advertising['sales'])[0, 1]"
   ]
  },
  {
   "cell_type": "code",
   "execution_count": 11,
   "metadata": {},
   "outputs": [
    {
     "data": {
      "text/plain": [
       "0.22829902637616528"
      ]
     },
     "execution_count": 11,
     "metadata": {},
     "output_type": "execute_result"
    }
   ],
   "source": [
    "np.corrcoef(advertising['newspaper'], advertising['sales'])[0, 1]"
   ]
  },
  {
   "cell_type": "markdown",
   "metadata": {},
   "source": []
  },
  {
   "cell_type": "markdown",
   "metadata": {},
   "source": [
    "For simplicity, we will only use `TV` as a predictor of `sales`."
   ]
  },
  {
   "cell_type": "code",
   "execution_count": 14,
   "metadata": {},
   "outputs": [
    {
     "data": {
      "text/html": [
       "<div>\n",
       "<style scoped>\n",
       "    .dataframe tbody tr th:only-of-type {\n",
       "        vertical-align: middle;\n",
       "    }\n",
       "\n",
       "    .dataframe tbody tr th {\n",
       "        vertical-align: top;\n",
       "    }\n",
       "\n",
       "    .dataframe thead th {\n",
       "        text-align: right;\n",
       "    }\n",
       "</style>\n",
       "<table border=\"1\" class=\"dataframe\">\n",
       "  <thead>\n",
       "    <tr style=\"text-align: right;\">\n",
       "      <th></th>\n",
       "      <th>TV</th>\n",
       "      <th>sales</th>\n",
       "    </tr>\n",
       "  </thead>\n",
       "  <tbody>\n",
       "    <tr>\n",
       "      <td>1</td>\n",
       "      <td>230.1</td>\n",
       "      <td>22.1</td>\n",
       "    </tr>\n",
       "    <tr>\n",
       "      <td>2</td>\n",
       "      <td>44.5</td>\n",
       "      <td>10.4</td>\n",
       "    </tr>\n",
       "    <tr>\n",
       "      <td>3</td>\n",
       "      <td>17.2</td>\n",
       "      <td>9.3</td>\n",
       "    </tr>\n",
       "    <tr>\n",
       "      <td>4</td>\n",
       "      <td>151.5</td>\n",
       "      <td>18.5</td>\n",
       "    </tr>\n",
       "    <tr>\n",
       "      <td>5</td>\n",
       "      <td>180.8</td>\n",
       "      <td>12.9</td>\n",
       "    </tr>\n",
       "  </tbody>\n",
       "</table>\n",
       "</div>"
      ],
      "text/plain": [
       "      TV  sales\n",
       "1  230.1   22.1\n",
       "2   44.5   10.4\n",
       "3   17.2    9.3\n",
       "4  151.5   18.5\n",
       "5  180.8   12.9"
      ]
     },
     "execution_count": 14,
     "metadata": {},
     "output_type": "execute_result"
    }
   ],
   "source": [
    "data = advertising[['TV', 'sales']]\n",
    "data.head()"
   ]
  },
  {
   "cell_type": "markdown",
   "metadata": {},
   "source": [
    "### Slicing a data frame\n",
    "- Use df[cols] to select a subset of columns\n",
    "- Use df.loc[rows] to select a subset of rows\n",
    "- The result **is a new data frame**"
   ]
  },
  {
   "cell_type": "code",
   "execution_count": null,
   "metadata": {},
   "outputs": [],
   "source": [
    "# Change the first value of data from 230.1 to 230.2\n",
    "data.loc[1, 'TV'] = 230.2\n",
    "data.head()"
   ]
  },
  {
   "cell_type": "code",
   "execution_count": null,
   "metadata": {
    "scrolled": false
   },
   "outputs": [],
   "source": [
    "# What is the first value in advertising? 230.1? 230.2?\n",
    "advertising.head()"
   ]
  },
  {
   "cell_type": "code",
   "execution_count": null,
   "metadata": {},
   "outputs": [],
   "source": [
    "# Change the second value in adverting to 44.6\n",
    "advertising.loc[2, 'TV'] = 44.6\n",
    "advertising.head()"
   ]
  },
  {
   "cell_type": "code",
   "execution_count": null,
   "metadata": {},
   "outputs": [],
   "source": [
    "data2 = advertising.loc[:, ['TV', 'sales']]\n",
    "data2.loc[1, 'TV'] = 123\n",
    "data2.head()\n",
    "# advertising.head()"
   ]
  },
  {
   "cell_type": "code",
   "execution_count": null,
   "metadata": {},
   "outputs": [],
   "source": [
    "# Change things back\n",
    "data.loc[1, 'TV'] = 230.1\n",
    "advertising.loc[2, 'TV'] == 44.5\n",
    "data.head()"
   ]
  },
  {
   "cell_type": "markdown",
   "metadata": {},
   "source": [
    "## Simple Linear Regression: Model Representation\n",
    "\n",
    "In order to describe the model mathematically, we need to introduce a few notations:\n",
    "- The input feature `TV` is represented as variable $X$.\n",
    "- The output/response feature `sales` is represented as variable $Y$.\n",
    "- Each instance of data is represented as $(x_i, y_i)$, where $i$ is the row index, $x_i$ is the value corresponding to $X$, and $y_i$ is the value corresponding to $Y$. For example, $(x_1, y_1) = (230.1, 22.1)$.\n",
    "\n",
    "The **simple linear regression** model assumes that the relationship between $X$ and $Y$ is\n",
    "$$Y \\approx f(X) = \\beta_0 + \\beta_1 X.$$\n",
    "\n",
    "- $\\beta_0$ and $\\beta_1$ are called **model parameters**. For simple linear regression, the relationship is characterized as a straight line with slope $\\beta_1$ and y-intercept $\\beta_0$.\n",
    "- For a given line, we need a **cost function** (in some occasions also called **loss function**) that measures how well a given line fits the data.\n",
    "- We also need a **training algorithm** that finds values of parameters so that the line fits the data well (usually \"fitting the data well\" means \"minimizing the cost\").\n"
   ]
  },
  {
   "cell_type": "markdown",
   "metadata": {},
   "source": [
    "## Simple Linear Regression: Cost Function\n",
    "A common choice of cost function is the **mean squared error (MSE) function**. It is defined as\n",
    "$$\\begin{align}\n",
    "MSE(\\beta_0, \\beta_1) =& \n",
    "\\frac{1}{N}\\sum_{i=1}^N (y_i - f(x_i))^2 \\\\\n",
    "=& \\frac{1}{N}\\sum_{i=1}^N\\big(y_i - \\beta_0 - \\beta_1x_i\\big)^2.\n",
    "\\end{align}$$"
   ]
  },
  {
   "cell_type": "markdown",
   "metadata": {},
   "source": [
    "To better understand the MSE function, let's calculate the value $MSE(5, 0.1)$."
   ]
  },
  {
   "cell_type": "code",
   "execution_count": 15,
   "metadata": {},
   "outputs": [
    {
     "name": "stdout",
     "output_type": "stream",
     "text": [
      "x1, y1: 230.1 22.1\n",
      "Prediction: 28.01\n",
      "Squared error: 34.9281\n"
     ]
    }
   ],
   "source": [
    "# Calcul2 = te (y_1 - f(x_1))^2 with beta0 = 5 and beta1 = 0.1.\n",
    "x1 = data.loc[1, 'TV'] # 230.1\n",
    "y1 = data.loc[1, 'sales'] #22.1\n",
    "print(\"x1, y1:\", x1, y1)\n",
    "# Calculate model prediction: f(x) = beta0 + beta1 * x\n",
    "beta0 = 5\n",
    "beta1 = 0.1\n",
    "fx1 = beta0 + beta1 * x1 # 5 + 0.1 * 230.1\n",
    "print(\"Prediction:\", fx1)\n",
    "# Calculate the squared error (y - f(x))^2\n",
    "squared_error = (y1 - fx1) ** 2\n",
    "print(\"Squared error:\", squared_error)"
   ]
  },
  {
   "cell_type": "code",
   "execution_count": 16,
   "metadata": {},
   "outputs": [],
   "source": [
    "def get_squared_error(beta0, beta1, xi, yi):\n",
    "    predict_fx = beta0 + beta1 * xi\n",
    "    squared_error = (yi - predict_fx) ** 2\n",
    "\n",
    "    return squared_error"
   ]
  },
  {
   "cell_type": "code",
   "execution_count": 17,
   "metadata": {},
   "outputs": [
    {
     "data": {
      "text/plain": [
       "34.9281"
      ]
     },
     "execution_count": 17,
     "metadata": {},
     "output_type": "execute_result"
    }
   ],
   "source": [
    "get_squared_error(5, 0.1, 230.1, 22.1)"
   ]
  },
  {
   "cell_type": "code",
   "execution_count": 18,
   "metadata": {},
   "outputs": [
    {
     "name": "stdout",
     "output_type": "stream",
     "text": [
      "200\n"
     ]
    }
   ],
   "source": [
    "# Create a list that contains value of (y_1 - f(x_1))^2 for i=1,...,200.\n",
    "list_errors = []\n",
    "for ind in data.index:\n",
    "    xi = data.loc[ind, 'TV']\n",
    "    yi = data.loc[ind, 'sales']\n",
    "    squared_error = get_squared_error(5, 0.1, xi, yi)\n",
    "    list_errors.append(squared_error)\n",
    "print(len(list_errors))"
   ]
  },
  {
   "cell_type": "code",
   "execution_count": 19,
   "metadata": {},
   "outputs": [
    {
     "name": "stdout",
     "output_type": "stream",
     "text": [
      "[34.9281, 0.9025000000000021, 6.656400000000005, 2.7224999999999953, 103.63240000000003, 1.7689000000000001, 1.1025000000000016, 14.59240000000003, 1.123600000000001, 206.78440000000012, 9.060099999999998, 82.26490000000001, 3.3123999999999945, 25.50250000000001, 41.088100000000004, 4.579600000000018, 0.5183999999999984, 76.38760000000003, 0.38440000000000124, 26.316900000000043, 78.14560000000006, 263.73760000000004, 0.518400000000001, 152.02890000000005, 2.3409000000000035, 372.10409999999996, 18.404099999999993, 171.87210000000005, 120.56040000000009, 2.433599999999996, 166.15210000000002, 19.27209999999999, 26.214400000000012, 200.5056000000001, 25.704900000000002, 452.4129, 39.56409999999999, 4.972899999999994, 0.6240999999999987, 39.69000000000001, 74.82249999999998, 31.359999999999975, 186.5956, 163.58410000000003, 0.9801000000000004, 57.91210000000002, 11.356900000000007, 33.52410000000003, 166.92639999999994, 3.9601000000000077, 184.4164000000001, 18.835600000000014, 16.321599999999993, 4.24360000000001, 122.54490000000001, 1.416100000000003, 0.0529000000000002, 29.37639999999998, 5.198400000000005, 58.828900000000026, 5.062500000000008, 48.024900000000045, 175.0329000000001, 1.6129000000000033, 0.012099999999999875, 6.759999999999998, 1.8224999999999991, 30.580899999999993, 96.82560000000007, 19.18440000000002, 43.69209999999999, 12.8164, 1.2544000000000022, 48.16360000000002, 87.23560000000006, 4.040099999999999, 0.7224999999999994, 8.122500000000008, 0.0576000000000001, 31.360000000000017, 0.7055999999999998, 278.2224000000001, 1.512900000000001, 3.0975999999999995, 21.62250000000002, 83.17440000000002, 0.39689999999999875, 0.00490000000000004, 0.8648999999999994, 0.5183999999999984, 52.27290000000001, 0.31360000000000054, 54.31690000000002, 62.25210000000006, 17.977600000000017, 19.62490000000003, 170.56360000000006, 63.840100000000035, 73.4449, 1.7424000000000008, 241.4916000000001, 117.5056, 331.9683999999998, 82.62810000000006, 65.93440000000001, 0.1681000000000001, 0.0899999999999999, 28.515600000000017, 1.0201000000000013, 115.34760000000004, 201.07240000000004, 54.31690000000002, 71.74090000000001, 101.20360000000001, 3.168399999999998, 0.008099999999999975, 45.158400000000036, 10.497600000000002, 2.7889, 0.1155999999999999, 13.17690000000002, 0.014400000000000026, 249.64000000000007, 4.452100000000012, 68.06250000000006, 9.734400000000006, 0.672399999999999, 17.808400000000006, 5.4289000000000085, 1.587600000000004, 12.0409, 354.1924, 0.01959999999999991, 54.46440000000004, 4.452100000000005, 3.1328999999999985, 3.763599999999998, 133.8649000000001, 0.08999999999999936, 7.784100000000015, 2.0735999999999986, 26.728900000000017, 48.30249999999999, 25.603600000000004, 10.368400000000005, 76.2129, 249.95610000000008, 15.366400000000013, 4.409999999999998, 0.39689999999999875, 287.98089999999996, 30.25000000000002, 66.5856, 9.796900000000017, 66.91240000000002, 4.8841, 0.8281000000000003, 97.61440000000009, 1.2768999999999997, 27.772900000000014, 61.622499999999995, 0.07289999999999977, 79.9236, 11.222500000000009, 23.232399999999984, 273.90250000000015, 1.4641, 181.7104000000001, 89.11360000000002, 339.6649000000003, 2.5599999999999987, 48.30249999999999, 0.4095999999999996, 102.81960000000001, 247.74760000000006, 32.37609999999997, 92.92960000000008, 106.50240000000001, 435.55690000000004, 80.28159999999998, 103.2256, 214.62250000000006, 3.6864000000000066, 57.15360000000009, 163.32840000000002, 8.409999999999991, 74.82250000000003, 46.37609999999998, 313.2900000000001, 0.028899999999999974, 3.422500000000005, 7.022500000000002, 0.672399999999999, 4.326400000000008, 7.12889999999999, 1.4884000000000015, 22.278400000000005, 98.00999999999998, 61.77959999999999, 219.33610000000002]\n"
     ]
    }
   ],
   "source": [
    "list_errors2 = [get_squared_error(5,\n",
    "                                  0.1,\n",
    "                                  data.loc[ind, \"TV\"],\n",
    "                                  data.loc[ind, 'sales']) \\\n",
    "                for ind in data.index]\n",
    "print(list_errors2)"
   ]
  },
  {
   "cell_type": "code",
   "execution_count": 20,
   "metadata": {},
   "outputs": [
    {
     "name": "stdout",
     "output_type": "stream",
     "text": [
      "MSE: 62.98132950000001\n"
     ]
    }
   ],
   "source": [
    "# Calculate MSE(5, 0.1)\n",
    "MSE = np.mean(list_errors)\n",
    "print(\"MSE:\", MSE)"
   ]
  },
  {
   "cell_type": "code",
   "execution_count": 21,
   "metadata": {},
   "outputs": [],
   "source": [
    "# Write a function MSE(beta0, beta1, data) that returns the value of MSE with given beta0 and beta1.\n",
    "def get_MSE(beta0, beta1, data):\n",
    "    # Calculate the list of squared errors\n",
    "    list_errors = []\n",
    "    for ind in data.index:\n",
    "        xi = data.loc[ind, 'TV']\n",
    "        yi = data.loc[ind, 'sales']\n",
    "        squared_error = get_squared_error(beta0, beta1, xi, yi)\n",
    "        list_errors.append(squared_error)\n",
    "    # Calculate the average\n",
    "    MSE = np.mean(list_errors)\n",
    "    return MSE"
   ]
  },
  {
   "cell_type": "code",
   "execution_count": 22,
   "metadata": {},
   "outputs": [
    {
     "data": {
      "text/plain": [
       "10.665809875"
      ]
     },
     "execution_count": 22,
     "metadata": {},
     "output_type": "execute_result"
    }
   ],
   "source": [
    "# Calculate MSE(7, 0.05) using MSE().\n",
    "get_MSE(7, 0.05, data)"
   ]
  },
  {
   "cell_type": "code",
   "execution_count": 23,
   "metadata": {},
   "outputs": [
    {
     "data": {
      "text/plain": [
       "[<matplotlib.lines.Line2D at 0x17daab3e888>]"
      ]
     },
     "execution_count": 23,
     "metadata": {},
     "output_type": "execute_result"
    },
    {
     "data": {
      "image/png": "[encoded data removed]",
      "text/plain": [
       "<Figure size 432x288 with 1 Axes>"
      ]
     },
     "metadata": {
      "needs_background": "light"
     },
     "output_type": "display_data"
    }
   ],
   "source": [
    "# Plot the data as a scatter plot.\n",
    "plt.plot(data['TV'], data['sales'], 'b.')\n",
    "# Plot the line y = 5 + 0.1x.\n",
    "x_coordinates = np.array([0, 300])\n",
    "y_coordinates = x_coordinates * 0.1 + 5\n",
    "plt.plot(x_coordinates, y_coordinates, 'g-')\n",
    "# Plot the line y = 7 + 0.05x.\n",
    "y_coordinates = x_coordinates * 0.05 + 7\n",
    "plt.plot(x_coordinates, y_coordinates, 'r--')"
   ]
  },
  {
   "cell_type": "markdown",
   "metadata": {},
   "source": [
    "**Discussion**: \n",
    "- Which line fits the data better? \n",
    "- Which line has smaller MSE value?\n",
    "- What is the geometric meaning of the MSE function?\n",
    "\n",
    "Each individual error is the vertical distance between a data point and the regression line. The MSE measure the average squared vertical distance."
   ]
  },
  {
   "cell_type": "markdown",
   "metadata": {},
   "source": [
    "# Simple Linear Regression: Training Algorithm\n",
    "To find the value of $\\beta_0, \\beta_1$ that minimizes the MSE cost function, there is a formula called **normal equation** that gives the result directly:\n",
    "\n",
    "$$\\begin{pmatrix} \\beta_0 \\\\ \\beta_1 \\end{pmatrix} = (\\textbf{X}^T\\cdot\\textbf{X})^{-1}\\cdot\\textbf{X}^T\\cdot\\textbf{y}.$$\n",
    "\n",
    "- $\\textbf{X}$ is the matrix formed as \n",
    "$$\\textbf{X} = \\begin{pmatrix} \n",
    "1 & x_1 \\\\\n",
    "1 & x_2 \\\\\n",
    "\\vdots & \\vdots \\\\\n",
    "1 & x_N \\\\\n",
    "\\end{pmatrix}.$$\n",
    "- $\\textbf{X}$ is the **matrix transpose** of $\\textbf{X}$.\n",
    "- $\\cdot$ is **matrix multiplication**.\n",
    "- $^{-1}$ is **matrix inverse**.\n",
    "- $\\textbf{y}$ is the vector of target values\n",
    "$$\\textbf{y} = \\begin{pmatrix} \n",
    "y_1 \\\\\n",
    "y_2 \\\\\n",
    "\\vdots \\\\\n",
    "y_N \\\\\n",
    "\\end{pmatrix}.$$"
   ]
  },
  {
   "cell_type": "markdown",
   "metadata": {},
   "source": [
    "Let's apply the normal equation and find the best parameter values."
   ]
  },
  {
   "cell_type": "code",
   "execution_count": 24,
   "metadata": {},
   "outputs": [
    {
     "data": {
      "text/plain": [
       "array([[1.],\n",
       "       [1.],\n",
       "       [1.],\n",
       "       [1.],\n",
       "       [1.]])"
      ]
     },
     "execution_count": 24,
     "metadata": {},
     "output_type": "execute_result"
    }
   ],
   "source": [
    "np.ones([5, 1])"
   ]
  },
  {
   "cell_type": "code",
   "execution_count": 25,
   "metadata": {},
   "outputs": [
    {
     "name": "stdout",
     "output_type": "stream",
     "text": [
      "[[7.03259355]\n",
      " [0.04753664]]\n"
     ]
    }
   ],
   "source": [
    "# Construct X and y as numpy arrays\n",
    "X = np.hstack([np.ones([len(data), 1]), data[['TV']].values])\n",
    "# print(X)\n",
    "y = data[['sales']].values\n",
    "# print(y)\n",
    "\n",
    "beta = np.linalg.inv(X.T.dot(X)).dot(X.T).dot(y)\n",
    "# beta = np.linalg.inv(X.T.dot(X)).dot(X.T).dot(y)\n",
    "print(beta)"
   ]
  },
  {
   "cell_type": "code",
   "execution_count": 26,
   "metadata": {},
   "outputs": [
    {
     "data": {
      "text/plain": [
       "10.52140766755"
      ]
     },
     "execution_count": 26,
     "metadata": {},
     "output_type": "execute_result"
    }
   ],
   "source": [
    "get_MSE(7.03, 0.047, data)"
   ]
  },
  {
   "cell_type": "code",
   "execution_count": 31,
   "metadata": {},
   "outputs": [
    {
     "data": {
      "text/plain": [
       "[<matplotlib.lines.Line2D at 0x17daacff688>]"
      ]
     },
     "execution_count": 31,
     "metadata": {},
     "output_type": "execute_result"
    },
    {
     "data": {
      "image/png": "[encoded data removed]",
      "text/plain": [
       "<Figure size 432x288 with 1 Axes>"
      ]
     },
     "metadata": {
      "needs_background": "light"
     },
     "output_type": "display_data"
    }
   ],
   "source": [
    "# Plot the data points and the optimal regression line.\n",
    "plt.plot(data['TV'], data['sales'], 'b.')\n",
    "x_coordinates = np.array([0,300])\n",
    "y_coordinates = x_coordinates * 0.047 + 7.03\n",
    "plt.plot(x_coordinates, y_coordinates, 'g-')"
   ]
  },
  {
   "cell_type": "code",
   "execution_count": 32,
   "metadata": {},
   "outputs": [
    {
     "data": {
      "text/plain": [
       "LinearRegression(copy_X=True, fit_intercept=True, n_jobs=None, normalize=False)"
      ]
     },
     "execution_count": 32,
     "metadata": {},
     "output_type": "execute_result"
    }
   ],
   "source": [
    "# Find the results using LinearRegression class from sklearn.linear_model\n",
    "from sklearn.linear_model import LinearRegression\n",
    "model_lr = LinearRegression()\n",
    "model_lr.fit(data[['TV']], data[['sales']])"
   ]
  },
  {
   "cell_type": "code",
   "execution_count": 33,
   "metadata": {},
   "outputs": [
    {
     "name": "stdout",
     "output_type": "stream",
     "text": [
      "[[0.04753664]]\n",
      "[7.03259355]\n"
     ]
    }
   ],
   "source": [
    "# The coef_ and intercept_ attributes contain parameter values\n",
    "print(model_lr.coef_)\n",
    "print(model_lr.intercept_)"
   ]
  },
  {
   "cell_type": "markdown",
   "metadata": {},
   "source": [
    "**Discussion**:\n",
    "- How can we interpret the value of $\\beta_1$?\n",
    "- How can we interpret the value of $\\beta_0$?"
   ]
  },
  {
   "cell_type": "markdown",
   "metadata": {},
   "source": [
    "# Homework\n",
    "This homework assignment aims to build a simple linear regression model using the `radio` feature.\n",
    "1. Apply the normal equation to calculate parameter values for the best fit.\n",
    "2. Display the regression line with the training data points.\n",
    "3. Use `sklearn` to build the same model. Verify that the parameters values are the same as those from the normal equation.\n",
    "4. (master students only) Read [this article](https://scikit-learn.org/stable/modules/model_evaluation.html#r2-score) to learn the concept of R^2 statistic. Calculate the R^2 statistic of the above model.\n",
    "5. (master students only) Train a linear model using `sklearn` with parameter `fit_intercept` set to False. Compare the R^2 of this model and the previous model."
   ]
  },
  {
   "cell_type": "code",
   "execution_count": null,
   "metadata": {},
   "outputs": [],
   "source": []
  }
 ],
 "metadata": {
  "kernelspec": {
   "display_name": "Python 3",
   "language": "python",
   "name": "python3"
  },
  "language_info": {
   "codemirror_mode": {
    "name": "ipython",
    "version": 3
   },
   "file_extension": ".py",
   "mimetype": "text/x-python",
   "name": "python",
   "nbconvert_exporter": "python",
   "pygments_lexer": "ipython3",
   "version": "3.7.4"
  }
 },
 "nbformat": 4,
 "nbformat_minor": 2
}
